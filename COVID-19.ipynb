{
 "cells": [
  {
   "cell_type": "code",
   "execution_count": 9,
   "metadata": {
    "scrolled": false
   },
   "outputs": [],
   "source": [
    "import pandas as pd\n",
    "import matplotlib.pyplot as plt\n",
    "import pyodbc"
   ]
  },
  {
   "cell_type": "code",
   "execution_count": 10,
   "metadata": {},
   "outputs": [
    {
     "name": "stdout",
     "output_type": "stream",
     "text": [
      "date            2019-12-312020-01-012020-01-022020-01-032020-0...\n",
      "location        AfghanistanAfghanistanAfghanistanAfghanistanAf...\n",
      "new_cases                                                 1314280\n",
      "new_deaths                                                  60902\n",
      "total_cases                                              16540873\n",
      "total_deaths                                               641795\n",
      "dtype: object\n"
     ]
    }
   ],
   "source": [
    "df_csv = pd.read_csv(r\"C:\\Users\\chands1\\Downloads\\full_data.csv\")\n",
    "print(df_csv.sum())"
   ]
  },
  {
   "cell_type": "code",
   "execution_count": 28,
   "metadata": {},
   "outputs": [
    {
     "data": {
      "image/png": "[encoded data removed]",
      "text/plain": [
       "<Figure size 432x288 with 1 Axes>"
      ]
     },
     "metadata": {
      "needs_background": "light"
     },
     "output_type": "display_data"
    }
   ],
   "source": [
    "url='https://covid.ourworldindata.org/data/ecdc/full_data.csv'\n",
    "df = pd.read_csv(url)\n",
    "df.plot(kind='scatter',x='total_deaths',y='total_cases')\n",
    "plt.show()"
   ]
  },
  {
   "cell_type": "code",
   "execution_count": null,
   "metadata": {},
   "outputs": [],
   "source": [
    "#download  the csv file and replace the contents of the existing file with that of new file"
   ]
  },
  {
   "cell_type": "code",
   "execution_count": 12,
   "metadata": {},
   "outputs": [],
   "source": [
    "url='https://covid.ourworldindata.org/data/ecdc/full_data.csv'\n",
    "df = pd.read_csv(url)  \n",
    "df.to_csv(r'Downloads\\full_data.csv', index = False, header=True)"
   ]
  },
  {
   "cell_type": "code",
   "execution_count": null,
   "metadata": {},
   "outputs": [],
   "source": [
    "#Truncate the existing table in the sql server"
   ]
  },
  {
   "cell_type": "code",
   "execution_count": 13,
   "metadata": {},
   "outputs": [],
   "source": [
    "cnxn = pyodbc.connect('Driver={SQL Server};Server=KTCL-5CG9362KJQ\\SQLEXPRESS;Database=GBSS;Trusted_Connection=yes;')\n",
    "cursor = cnxn.cursor()\n",
    "cursor.execute('''TRUNCATE TABLE [dbo].[full_data (2)]''')                \n",
    "cnxn.commit()                "
   ]
  },
  {
   "cell_type": "code",
   "execution_count": null,
   "metadata": {},
   "outputs": [],
   "source": [
    "#Insert the rows of the fresh file into table of the sqlserver"
   ]
  },
  {
   "cell_type": "code",
   "execution_count": 14,
   "metadata": {},
   "outputs": [],
   "source": [
    "cnxn = pyodbc.connect('Driver={SQL Server};Server=KTCL-5CG9362KJQ\\SQLEXPRESS;Database=GBSS;Trusted_Connection=yes;')\n",
    "cursor = cnxn.cursor()\n",
    "url='https://covid.ourworldindata.org/data/ecdc/full_data.csv'\n",
    "df = pd.read_csv(url)\n",
    "for rows in df.itertuples(index=False): # Iterate through csv\n",
    "    cursor.execute(\"INSERT INTO [dbo].[full_data (2)](date,location,new_cases,new_deaths,total_cases,total_deaths) VALUES (?,?,?,?,?,?)\",rows)\n",
    "cnxn.commit()"
   ]
  },
  {
   "cell_type": "code",
   "execution_count": null,
   "metadata": {},
   "outputs": [],
   "source": [
    "#to save the fresh csv file"
   ]
  },
  {
   "cell_type": "code",
   "execution_count": 15,
   "metadata": {},
   "outputs": [],
   "source": [
    "url='https://covid.ourworldindata.org/data/ecdc/full_data.csv'\n",
    "#to download the csv file from url and convert it to dataframe\n",
    "df = pd.read_csv(url)\n",
    "#to replace the contents of the file with fresh data \n",
    "df.to_csv('full_data.csv',index=False,header=True)"
   ]
  },
  {
   "cell_type": "code",
   "execution_count": null,
   "metadata": {},
   "outputs": [],
   "source": [
    "#Function that downloads,replaces the file and database table with the fresh data"
   ]
  },
  {
   "cell_type": "code",
   "execution_count": 16,
   "metadata": {},
   "outputs": [],
   "source": [
    "def insert_fresh_data():\n",
    "    cnxn = pyodbc.connect('Driver={SQL Server};Server=KTCL-5CG9362KJQ\\SQLEXPRESS;Database=GBSS;Trusted_Connection=yes;')\n",
    "    cursor = cnxn.cursor()\n",
    "    \n",
    "    cursor.execute('''TRUNCATE TABLE [dbo].[full_data (2)]''') # removes the data of the table except column names               \n",
    "    cnxn.commit()\n",
    "\n",
    "    cursor=cnxn.cursor()\n",
    "    url='https://covid.ourworldindata.org/data/ecdc/full_data.csv'\n",
    "    df = pd.read_csv(url)\n",
    "    df.to_csv('full_data.csv',index=False,header=True)  #replace the fresh data into file\n",
    "    \n",
    "    for rows in df.itertuples(index=False): # Iterate through each row elementof dataframe\n",
    "        cursor.execute(\"INSERT INTO [dbo].[full_data (2)](date,location,new_cases,new_deaths,total_cases,total_deaths) VALUES (?,?,?,?,?,?)\",rows)\n",
    "    cnxn.commit()\n",
    "insert_fresh_data()    "
   ]
  },
  {
   "cell_type": "code",
   "execution_count": null,
   "metadata": {},
   "outputs": [],
   "source": []
  },
  {
   "cell_type": "code",
   "execution_count": null,
   "metadata": {},
   "outputs": [],
   "source": []
  }
 ],
 "metadata": {
  "kernelspec": {
   "display_name": "Python 3",
   "language": "python",
   "name": "python3"
  },
  "language_info": {
   "codemirror_mode": {
    "name": "ipython",
    "version": 3
   },
   "file_extension": ".py",
   "mimetype": "text/x-python",
   "name": "python",
   "nbconvert_exporter": "python",
   "pygments_lexer": "ipython3",
   "version": "3.7.1"
  }
 },
 "nbformat": 4,
 "nbformat_minor": 2
}
