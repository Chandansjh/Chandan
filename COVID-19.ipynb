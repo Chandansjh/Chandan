{
 "cells": [
  {
   "cell_type": "code",
   "execution_count": 1,
   "metadata": {
    "scrolled": false
   },
   "outputs": [],
   "source": [
    "import pandas as pd\n",
    "import matplotlib.pyplot as plt\n",
    "import pyodbc\n",
    "import pandas as pd"
   ]
  },
  {
   "cell_type": "code",
   "execution_count": 2,
   "metadata": {},
   "outputs": [],
   "source": [
    "#Insert the rows of the fresh file into table of the sqlserver"
   ]
  },
  {
   "cell_type": "code",
   "execution_count": 3,
   "metadata": {},
   "outputs": [],
   "source": [
    "cnxn = pyodbc.connect('Driver={SQL Server};Server=KTCL-5CG9362KJQ\\SQLEXPRESS;Database=GBSS;Trusted_Connection=yes;')\n",
    "cursor = cnxn.cursor()\n",
    "url='https://covid.ourworldindata.org/data/ecdc/full_data.csv'\n",
    "df = pd.read_csv(url)"
   ]
  },
  {
   "cell_type": "code",
   "execution_count": 4,
   "metadata": {},
   "outputs": [
    {
     "name": "stdout",
     "output_type": "stream",
     "text": [
      "<class 'pandas.core.frame.DataFrame'>\n",
      "RangeIndex: 59354 entries, 0 to 59353\n",
      "Data columns (total 10 columns):\n",
      " #   Column           Non-Null Count  Dtype  \n",
      "---  ------           --------------  -----  \n",
      " 0   date             59354 non-null  object \n",
      " 1   location         59354 non-null  object \n",
      " 2   new_cases        59021 non-null  float64\n",
      " 3   new_deaths       59021 non-null  float64\n",
      " 4   total_cases      56051 non-null  float64\n",
      " 5   total_deaths     46414 non-null  float64\n",
      " 6   weekly_cases     58222 non-null  float64\n",
      " 7   weekly_deaths    58222 non-null  float64\n",
      " 8   biweekly_cases   56717 non-null  float64\n",
      " 9   biweekly_deaths  56717 non-null  float64\n",
      "dtypes: float64(8), object(2)\n",
      "memory usage: 4.5+ MB\n"
     ]
    }
   ],
   "source": [
    "df.info()"
   ]
  },
  {
   "cell_type": "code",
   "execution_count": 5,
   "metadata": {},
   "outputs": [],
   "source": [
    "#to save the fresh csv file"
   ]
  },
  {
   "cell_type": "code",
   "execution_count": 6,
   "metadata": {},
   "outputs": [],
   "source": [
    "url='https://covid.ourworldindata.org/data/ecdc/full_data.csv'\n",
    "#to download the csv file from url and convert it to dataframe\n",
    "df = pd.read_csv(url)\n",
    "#to replace the contents of the file with fresh data \n",
    "df.to_csv('full_data.csv',index=False,header=True)"
   ]
  },
  {
   "cell_type": "code",
   "execution_count": 7,
   "metadata": {},
   "outputs": [],
   "source": [
    "#Function that downloads,replaces the file and database table with the fresh data\n",
    "#the below function does all the required stuff"
   ]
  },
  {
   "cell_type": "code",
   "execution_count": 8,
   "metadata": {},
   "outputs": [],
   "source": [
    "def insert_fresh_data():\n",
    "    cnxn = pyodbc.connect('Driver={SQL Server};Server=KTCL-5CG9362KJQ\\SQLEXPRESS;Database=GBSS;Trusted_Connection=yes;')\n",
    "    cursor = cnxn.cursor()\n",
    "    \n",
    "    cursor.execute('''TRUNCATE TABLE [dbo].[full_data (2)]''') # removes the data of the table except column names               \n",
    "    cnxn.commit()\n",
    "\n",
    "    cursor=cnxn.cursor()\n",
    "    url='https://covid.ourworldindata.org/data/ecdc/full_data.csv'\n",
    "    df = pd.read_csv(url)\n",
    "    df=df.fillna(0)\n",
    "    df.to_excel('latest_covid_data.xlsx',index=False,header=True)\n",
    "    df.to_csv('full_data2.csv',index=False,header=True)  #replace the fresh data into file\n",
    "    for rows in df.itertuples(index=False):             # Iterate through each row elementof dataframe\n",
    "        cursor.execute(\"INSERT INTO [dbo].[full_data (2)] VALUES(?,?,?,?,?,?,?,?,?,?)\",rows)\n",
    "    cnxn.commit()\n",
    "insert_fresh_data()"
   ]
  },
  {
   "cell_type": "code",
   "execution_count": 9,
   "metadata": {},
   "outputs": [
    {
     "ename": "SyntaxError",
     "evalue": "invalid syntax (<ipython-input-9-be3747667dcd>, line 4)",
     "output_type": "error",
     "traceback": [
      "\u001b[1;36m  File \u001b[1;32m\"<ipython-input-9-be3747667dcd>\"\u001b[1;36m, line \u001b[1;32m4\u001b[0m\n\u001b[1;33m    with ccte as\u001b[0m\n\u001b[1;37m                 ^\u001b[0m\n\u001b[1;31mSyntaxError\u001b[0m\u001b[1;31m:\u001b[0m invalid syntax\n"
     ]
    }
   ],
   "source": [
    "#SQL QUERIES \n",
    "\n",
    "#TO PREPARE A CTE OF DATA TO DO MORE CALCULATION\n",
    "with ccte as \n",
    "(\n",
    " select [location] as loc,max([date]) as date,max([total_cases]) as tc,max([new_cases]) as nc,max([total_deaths]) as td,max([new_deaths]) as nd\n",
    " from [dbo].[full_data (2)]\n",
    " where [location]!='World'\n",
    " group by [location]\n",
    ")\n",
    "select sum(td) as totaldeaths,sum(nd) as new_d,sum(tc) as tot_c,sum(nc) as new_c from ccte\n",
    "\n",
    "# TO GET MAXIMUM DEATH TILL NOW\n",
    "select [location] as loc,max([date]) as date,max([total_cases]) as tc,max([new_cases]) as nc,max([total_deaths]) as td,max([new_deaths]) as nd\n",
    "from [dbo].[full_data (2)]\n",
    "where [location]!='World'\n",
    "group by [location]\n",
    "order by loc\n",
    "\n",
    "#TO \n",
    "select [location] as loc,[date],[total_cases],[new_cases],[total_deaths],[new_deaths]\n",
    "from [dbo].[full_data (2)]\n",
    "where [date]=(select max([date]) from [dbo].[full_data (2)])\n"
   ]
  },
  {
   "cell_type": "code",
   "execution_count": null,
   "metadata": {},
   "outputs": [],
   "source": []
  },
  {
   "cell_type": "code",
   "execution_count": null,
   "metadata": {},
   "outputs": [],
   "source": []
  }
 ],
 "metadata": {
  "kernelspec": {
   "display_name": "Python 3",
   "language": "python",
   "name": "python3"
  },
  "language_info": {
   "codemirror_mode": {
    "name": "ipython",
    "version": 3
   },
   "file_extension": ".py",
   "mimetype": "text/x-python",
   "name": "python",
   "nbconvert_exporter": "python",
   "pygments_lexer": "ipython3",
   "version": "3.7.1"
  }
 },
 "nbformat": 4,
 "nbformat_minor": 2
}
