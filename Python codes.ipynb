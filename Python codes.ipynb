{
 "cells": [
  {
   "cell_type": "code",
   "execution_count": 2,
   "metadata": {},
   "outputs": [],
   "source": [
    "#to get the number of times substring repeated"
   ]
  },
  {
   "cell_type": "code",
   "execution_count": null,
   "metadata": {},
   "outputs": [],
   "source": [
    "def coun():\n",
    "    string = input()\n",
    "    substr = input()\n",
    "    strlen = len(string)\n",
    "    substrlen = len(substr)\n",
    "    occ = 0\n",
    "    for i in range(strlen-substrlen+1):\n",
    "        if string[i:i+substrlen] == substr:\n",
    "            occ += 1\n",
    "    print(occ)\n",
    "coun()    "
   ]
  },
  {
   "cell_type": "code",
   "execution_count": null,
   "metadata": {},
   "outputs": [],
   "source": [
    "#To create a dataframe using dictionary of lists"
   ]
  },
  {
   "cell_type": "code",
   "execution_count": null,
   "metadata": {},
   "outputs": [],
   "source": [
    "import pandas as pd\n",
    "import numpy as np\n",
    "data={  'Month': ['Jan ','Feb ','Mar ','Apr ','May ','Jun '],\n",
    "        'Bill Commission': [1500,2200,3500,1800,3000,2800],\n",
    "        'Maria Commission': [3200,4100,2500,3000,4700,3400], \n",
    "        'Jack Commission': [1700,3100,3300,2700,2400,3100]}\n",
    "df=pd.DataFrame(data,columns=['Month','Bill Commission','Maria Commission','Jack Commission'])\n",
    "np_arr=df.values\n",
    "print(df)\n",
    "print(np_arr)"
   ]
  },
  {
   "cell_type": "code",
   "execution_count": null,
   "metadata": {},
   "outputs": [],
   "source": [
    "#To get the output of a list by multiplying the odd and even places"
   ]
  },
  {
   "cell_type": "code",
   "execution_count": null,
   "metadata": {},
   "outputs": [],
   "source": [
    "def even_odd(l1):\n",
    "    if(len(l1)==2):\n",
    "        first_sum=l1[0]*l1[1]\n",
    "    else:\n",
    "        first_sum=(l1[0]*l1[1])+l1[2]\n",
    "        for i in range(3,len(l1),2):\n",
    "            first_sum=(first_sum*l1[i])+l1[i+1]\n",
    "print(first_sum)  \n",
    "l1=[1,2,6,1,6,3,1,9,6]\n",
    "even_odd(l1)"
   ]
  },
  {
   "cell_type": "code",
   "execution_count": null,
   "metadata": {},
   "outputs": [],
   "source": [
    "#TO get the maximum of product of 5 consecutive integers in a list "
   ]
  },
  {
   "cell_type": "code",
   "execution_count": null,
   "metadata": {},
   "outputs": [],
   "source": [
    "x='123834539327238239583'\n",
    "l1 =[int(i) for i in str(x)] \n",
    "prod_l=[]\n",
    "for i in range(len(l1)-4):\n",
    "    prod=1\n",
    "    for j in range(i,i+5):\n",
    "        prod=prod*l1[j]\n",
    "    prod_l.append(prod)\n",
    "print(prod_l)    \n",
    "print(max(prod_l))"
   ]
  },
  {
   "cell_type": "code",
   "execution_count": null,
   "metadata": {},
   "outputs": [],
   "source": [
    "#To find the average marks obtained by a particular student"
   ]
  },
  {
   "cell_type": "code",
   "execution_count": null,
   "metadata": {},
   "outputs": [],
   "source": [
    "n = int(input())\n",
    "stud_dict = dict()\n",
    "\n",
    "for i in range(n):\n",
    "    tmp = input().split(' ')\n",
    "    name = tmp[0]\n",
    "    stud_dict[name] = (float(tmp[1]), float(tmp[2]), float(tmp[3]))\n",
    "    \n",
    "name = input()\n",
    "print('%.2f' % (sum(stud_dict[name]) / 3.0))"
   ]
  },
  {
   "cell_type": "code",
   "execution_count": null,
   "metadata": {},
   "outputs": [],
   "source": [
    "#To find a particular angle in a triangle "
   ]
  },
  {
   "cell_type": "code",
   "execution_count": null,
   "metadata": {},
   "outputs": [],
   "source": [
    "import math\n",
    "n1=int(input())\n",
    "n2=int(input())\n",
    "tot2=n1**2+n2**2\n",
    "hyp=math.sqrt(tot2)\n",
    "res=math.asin(n1/hyp)\n",
    "print(round(math.degrees(res)),chr(176),sep='')\n"
   ]
  },
  {
   "cell_type": "code",
   "execution_count": null,
   "metadata": {},
   "outputs": [],
   "source": [
    "#to replace a character in a position of string"
   ]
  },
  {
   "cell_type": "code",
   "execution_count": null,
   "metadata": {},
   "outputs": [],
   "source": [
    "def mutate_string(string, position, character):\n",
    "    l=list(string)\n",
    "    l[position]=character\n",
    "    s=''.join(l)\n",
    "    \n",
    "    return s"
   ]
  },
  {
   "cell_type": "code",
   "execution_count": null,
   "metadata": {},
   "outputs": [],
   "source": [
    "#to get the first non consecutive number"
   ]
  },
  {
   "cell_type": "code",
   "execution_count": null,
   "metadata": {},
   "outputs": [],
   "source": [
    "def first_non_consecutive(arr):\n",
    "    a=0\n",
    "    sum1=0\n",
    "    for i in arr:\n",
    "        sum1+=i\n",
    "    for i in range(arr[0],arr[0]+len(arr)+1):\n",
    "        a+=i   \n",
    "    if(a-sum1==arr[0]+len(arr)):\n",
    "        return None\n",
    "    else:\n",
    "        return(a-sum1+1)\n",
    "arr=[4,6,7,8,9,11]\n",
    "print(first_non_consecutive(arr))\n"
   ]
  },
  {
   "cell_type": "code",
   "execution_count": null,
   "metadata": {},
   "outputs": [],
   "source": [
    "#linear search"
   ]
  },
  {
   "cell_type": "code",
   "execution_count": 42,
   "metadata": {},
   "outputs": [
    {
     "name": "stdout",
     "output_type": "stream",
     "text": [
      "item found\n"
     ]
    }
   ],
   "source": [
    "a=[2,3,2,1,4,3,5,4,2,5,6,8,9,3]\n",
    "key=3\n",
    "\n",
    "def lin_search(a):\n",
    "    flag=0\n",
    "    for i in a:\n",
    "        if(i==key):\n",
    "            flag=1\n",
    "            return flag\n",
    "            break\n",
    "res=lin_search(a)\n",
    "if(res==1):\n",
    "    print('item found')\n",
    "else:\n",
    "    print('not found')\n",
    "        \n",
    "    \n",
    "    "
   ]
  },
  {
   "cell_type": "code",
   "execution_count": 43,
   "metadata": {},
   "outputs": [],
   "source": [
    "##binary search"
   ]
  },
  {
   "cell_type": "code",
   "execution_count": 57,
   "metadata": {},
   "outputs": [
    {
     "name": "stdout",
     "output_type": "stream",
     "text": [
      "element not found\n"
     ]
    }
   ],
   "source": [
    "def binarySearch (arr, l, r, x): \n",
    "     if r >= l: \n",
    "        mid = l + (r - l)//2\n",
    "        if arr[mid] == x: \n",
    "            return mid \n",
    "        elif arr[mid] > x: \n",
    "            return binarySearch(arr, l, mid-1, x) \n",
    "        elif(arr[mid] < x): \n",
    "            return binarySearch(arr, mid+1, r, x) \n",
    "        else: \n",
    "            print('not found')\n",
    "            return 0\n",
    "arr = [ 2, 3, 4, 10, 40 ] \n",
    "x = 2\n",
    "res = binarySearch(arr, 0, len(arr)-1, x) \n",
    "if res==0: \n",
    "    print('element not found') \n",
    "else: \n",
    "    print(\"Element is present at index %d\" % res) "
   ]
  },
  {
   "cell_type": "code",
   "execution_count": null,
   "metadata": {},
   "outputs": [],
   "source": []
  },
  {
   "cell_type": "code",
   "execution_count": null,
   "metadata": {},
   "outputs": [],
   "source": [
    "##bubble sort"
   ]
  },
  {
   "cell_type": "code",
   "execution_count": 59,
   "metadata": {},
   "outputs": [
    {
     "name": "stdout",
     "output_type": "stream",
     "text": [
      "[1, 2, 2, 2, 3, 3, 3, 4, 4, 5, 5, 6, 8, 9]\n"
     ]
    }
   ],
   "source": [
    "def bubble_sort(a):\n",
    "    l=len(a)\n",
    "    for i in range(l):\n",
    "        for j in range(l-i-1):\n",
    "            if(a[j+1]<a[j]):\n",
    "                temp=a[j+1]\n",
    "                a[j+1]=a[j]\n",
    "                a[j]=temp\n",
    "    print(a)                \n",
    "a=[2,3,2,1,4,3,5,4,2,5,6,8,9,3]\n",
    "bubble_sort(a)\n"
   ]
  },
  {
   "cell_type": "code",
   "execution_count": 5,
   "metadata": {},
   "outputs": [],
   "source": [
    "##selection sort"
   ]
  },
  {
   "cell_type": "code",
   "execution_count": 6,
   "metadata": {},
   "outputs": [
    {
     "name": "stdout",
     "output_type": "stream",
     "text": [
      "[1, 2, 2, 2, 3, 3, 3, 4, 4, 5, 5, 6, 8, 9]\n"
     ]
    }
   ],
   "source": [
    "a=[2,3,2,1,4,3,5,4,2,5,6,8,9,3]\n",
    "l=len(a)\n",
    "for i in range(l-1):\n",
    "    for j in range(i+1,l):\n",
    "        if(a[j]<a[i]):\n",
    "            temp=a[j]\n",
    "            a[j]=a[i]\n",
    "            a[i]=temp\n",
    "print(a)            "
   ]
  },
  {
   "cell_type": "code",
   "execution_count": 7,
   "metadata": {},
   "outputs": [],
   "source": [
    "##INSERTION SORT"
   ]
  },
  {
   "cell_type": "code",
   "execution_count": 18,
   "metadata": {},
   "outputs": [
    {
     "name": "stdout",
     "output_type": "stream",
     "text": [
      "[1, 2, 2, 2, 3, 3, 3, 4, 4, 5, 5, 6, 8, 9]\n"
     ]
    }
   ],
   "source": [
    "a=[2,3,2,1,4,3,5,4,2,5,6,8,9,3]\n",
    "l=len(a)\n",
    "for i in range(1,l):\n",
    "    j=i-1\n",
    "    v=a[i]\n",
    "    while(v<a[j] and j>=0):\n",
    "        a[j+1]=a[j]\n",
    "        j-=1\n",
    "    a[j+1]=v\n",
    "print(a)    "
   ]
  },
  {
   "cell_type": "code",
   "execution_count": 36,
   "metadata": {},
   "outputs": [
    {
     "name": "stdout",
     "output_type": "stream",
     "text": [
      "[1, 2, 2, 2, 3, 3, 3, 4, 4, 5, 5, 6, 8, 9]\n",
      "Duration: 0.0\n"
     ]
    }
   ],
   "source": [
    "import time\n",
    "start_time = time.time()\n",
    "a=[2,3,2,1,4,3,5,4,2,5,6,8,9,3]\n",
    "l=len(a)\n",
    "for i in range(1,l):\n",
    "    j=i-1\n",
    "    v=a[i]\n",
    "    while(v<a[j] and j>=0):\n",
    "        a[j+1]=a[j]\n",
    "        j-=1\n",
    "    a[j+1]=v\n",
    "print(a) \n",
    "end_time=time.time()\n",
    "print('Duration: {}'.format(end_time - start_time))"
   ]
  },
  {
   "cell_type": "code",
   "execution_count": 1,
   "metadata": {},
   "outputs": [],
   "source": [
    "##merge SORT"
   ]
  },
  {
   "cell_type": "code",
   "execution_count": 16,
   "metadata": {},
   "outputs": [
    {
     "name": "stdout",
     "output_type": "stream",
     "text": [
      "[1, 2, 2, 2, 3, 3, 3, 4, 4, 5, 5, 6, 8, 9]\n"
     ]
    }
   ],
   "source": [
    "def merge_sort(a):\n",
    "    if(len(a)>1):\n",
    "        mid=len(a)//2\n",
    "        first_half=a[:mid]\n",
    "        second_half=a[mid:]\n",
    "    \n",
    "        merge_sort(first_half)\n",
    "        merge_sort(second_half)\n",
    "        i=j=k=0\n",
    "        while (i<len(first_half) and j<len(second_half)):\n",
    "            if(first_half[i]<second_half[j]):\n",
    "                a[k]=first_half[i]\n",
    "                i+=1    \n",
    "            else:\n",
    "                a[k]=second_half[j]\n",
    "                j+=1\n",
    "            k+=1\n",
    "        while(i<len(first_half)):\n",
    "            a[k]=first_half[i]\n",
    "            k+=1\n",
    "            i+=1\n",
    "        while(j<len(second_half)):\n",
    "            a[k]=second_half[j]\n",
    "            k+=1\n",
    "            j+=1\n",
    "      \n",
    "       \n",
    "            \n",
    "a=[2,3,2,1,4,3,5,4,2,5,6,8,9,3]\n",
    "merge_sort(a)\n",
    "print(a)\n",
    "\n",
    "\n"
   ]
  },
  {
   "cell_type": "code",
   "execution_count": 7,
   "metadata": {},
   "outputs": [],
   "source": [
    "##5TH MARCH 2020\n",
    "#SWAPPING WITHOUT USING TEMP VARIABLE"
   ]
  },
  {
   "cell_type": "code",
   "execution_count": 8,
   "metadata": {},
   "outputs": [
    {
     "name": "stdout",
     "output_type": "stream",
     "text": [
      "before swapping 2 3\n",
      "after swapping 3 2\n"
     ]
    }
   ],
   "source": [
    "def swap(n1,n2):\n",
    "    print('before swapping',n1,n2)\n",
    "    n1=n1+n2\n",
    "    n2=n1-n2\n",
    "    n1=n1-n2\n",
    "    print('after swapping',n1,n2)\n",
    "swap(2,3)    \n",
    "    "
   ]
  },
  {
   "cell_type": "code",
   "execution_count": 3,
   "metadata": {},
   "outputs": [],
   "source": [
    "##palindrome"
   ]
  },
  {
   "cell_type": "code",
   "execution_count": 5,
   "metadata": {},
   "outputs": [
    {
     "name": "stdout",
     "output_type": "stream",
     "text": [
      "it is a palindrome\n"
     ]
    }
   ],
   "source": [
    "def check_palindrome(str1):\n",
    "    x=str1[::-1]\n",
    "    if(str1==x):\n",
    "        print('it is a palindrome')\n",
    "    else:\n",
    "        print('not a palindrome')\n",
    "check_palindrome('abba')    "
   ]
  },
  {
   "cell_type": "code",
   "execution_count": 9,
   "metadata": {},
   "outputs": [],
   "source": [
    "##FACTORIAL"
   ]
  },
  {
   "cell_type": "code",
   "execution_count": 14,
   "metadata": {},
   "outputs": [
    {
     "name": "stdout",
     "output_type": "stream",
     "text": [
      "720\n"
     ]
    }
   ],
   "source": [
    "def factorial(x):\n",
    "    result=1\n",
    "    while(x>0):\n",
    "        result*=x\n",
    "        x-=1\n",
    "    print(result)    \n",
    "factorial(6)\n"
   ]
  },
  {
   "cell_type": "code",
   "execution_count": 15,
   "metadata": {},
   "outputs": [],
   "source": [
    "#pattern printing"
   ]
  },
  {
   "cell_type": "code",
   "execution_count": 55,
   "metadata": {},
   "outputs": [
    {
     "name": "stdout",
     "output_type": "stream",
     "text": [
      "\n",
      "1\n",
      "12\n",
      "123\n",
      "1234\n",
      "12345\n",
      "123456\n",
      "1234567\n",
      "12345678\n",
      "123456789\n",
      "12345678910\n"
     ]
    }
   ],
   "source": [
    "def print_pattern(x):\n",
    "    for i in range(1,x+2):\n",
    "        for j in range(1,i):\n",
    "            print(j,end='')\n",
    "        print()    \n",
    "print_pattern(10)            "
   ]
  },
  {
   "cell_type": "code",
   "execution_count": 36,
   "metadata": {},
   "outputs": [
    {
     "name": "stdout",
     "output_type": "stream",
     "text": [
      "\n",
      "1\n",
      "22\n",
      "333\n",
      "4444\n",
      "55555\n",
      "666666\n",
      "7777777\n",
      "88888888\n",
      "999999999\n"
     ]
    }
   ],
   "source": [
    "def print_pattern(x):\n",
    "    for i in range(x):\n",
    "        for j in range(i):\n",
    "            print(i,end='')\n",
    "        print()    \n",
    "print_pattern(10)"
   ]
  },
  {
   "cell_type": "code",
   "execution_count": 68,
   "metadata": {},
   "outputs": [
    {
     "name": "stdout",
     "output_type": "stream",
     "text": [
      "\n",
      "1 \n",
      "1 2 \n",
      "1 2 3 \n",
      "1 2 3 4 \n",
      "1 2 3 4 5 \n",
      "1 2 3 4 5 6 \n",
      "1 2 3 4 5 6 7 \n",
      "1 2 3 4 5 6 7 8 \n",
      "1 2 3 4 5 6 7 8 \n",
      "1 2 3 4 5 6 7 \n",
      "1 2 3 4 5 6 \n",
      "1 2 3 4 5 \n",
      "1 2 3 4 \n",
      "1 2 3 \n",
      "1 2 \n",
      "1 \n",
      "\n"
     ]
    }
   ],
   "source": [
    "def print_pattern(x):\n",
    "    for i in range(1,x):\n",
    "        for j in range(1,i):\n",
    "            print(j,'',end='')\n",
    "        print()  \n",
    "    for i in range(x-1,0,-1):\n",
    "        for j in range(1,i):\n",
    "            print(j,'',end='')\n",
    "        print()    \n",
    "print_pattern(10)"
   ]
  },
  {
   "cell_type": "code",
   "execution_count": 69,
   "metadata": {},
   "outputs": [
    {
     "name": "stdout",
     "output_type": "stream",
     "text": [
      "\n",
      "1 \n",
      "2 3 \n",
      "4 5 6 \n",
      "7 8 9 10 \n"
     ]
    }
   ],
   "source": [
    "def print_pattern(x):\n",
    "    k=1\n",
    "    for i in range(x):\n",
    "        for j in range(i):\n",
    "            print(k,'',end='')\n",
    "            k+=1\n",
    "        print()    \n",
    "print_pattern(5)"
   ]
  },
  {
   "cell_type": "code",
   "execution_count": 73,
   "metadata": {},
   "outputs": [
    {
     "name": "stdout",
     "output_type": "stream",
     "text": [
      "    \n",
      "\n",
      "   \n",
      "*\n",
      "  \n",
      "***\n",
      " \n",
      "*****\n",
      "\n",
      "*******\n"
     ]
    }
   ],
   "source": [
    "def print_pattern(x):\n",
    "    for i in range(x):\n",
    "        for j in range(x,i+1,-1):\n",
    "            print(' ',end='')\n",
    "        print()\n",
    "        for k in range((2*i)-1):\n",
    "            print('*',end='')\n",
    "        print()\n",
    "        \n",
    "    \n",
    "        \n",
    "print_pattern(5)"
   ]
  },
  {
   "cell_type": "code",
   "execution_count": 76,
   "metadata": {},
   "outputs": [
    {
     "name": "stdout",
     "output_type": "stream",
     "text": [
      "10987654321\n",
      "1098765432\n",
      "109876543\n",
      "10987654\n",
      "1098765\n",
      "109876\n",
      "10987\n",
      "1098\n",
      "109\n",
      "10\n"
     ]
    }
   ],
   "source": [
    "\n",
    "def print_pattern(x):\n",
    "    for i in range(x):\n",
    "        for j in range(x,i,-1):\n",
    "            print(j,end='')\n",
    "        print()    \n",
    "print_pattern(10)\n"
   ]
  },
  {
   "cell_type": "code",
   "execution_count": 82,
   "metadata": {},
   "outputs": [
    {
     "name": "stdout",
     "output_type": "stream",
     "text": [
      "['chandan', 'is', 'a', 'good', 'boy']\n"
     ]
    }
   ],
   "source": [
    "line='chandan is a good boy'\n",
    "li=line.split()\n",
    "print(li)"
   ]
  },
  {
   "cell_type": "code",
   "execution_count": 84,
   "metadata": {},
   "outputs": [
    {
     "name": "stdout",
     "output_type": "stream",
     "text": [
      "chandanisagoodboy\n"
     ]
    }
   ],
   "source": [
    "line='chandan is a good boy'\n",
    "li=line.replace(' ','')\n",
    "print(li)"
   ]
  },
  {
   "cell_type": "code",
   "execution_count": 85,
   "metadata": {},
   "outputs": [],
   "source": [
    "##SWAP STRINGS WITHOUT USING TEMP VARIABLE"
   ]
  },
  {
   "cell_type": "code",
   "execution_count": 87,
   "metadata": {},
   "outputs": [
    {
     "name": "stdout",
     "output_type": "stream",
     "text": [
      "maruthi chandan\n"
     ]
    }
   ],
   "source": [
    "str1='chandan'\n",
    "str2='maruthi'\n",
    "str1=str1+str2\n",
    "str2=str1[:len(str2)]\n",
    "str1=str1[len(str1)-len(str2):]\n",
    "print(str1,str2)"
   ]
  },
  {
   "cell_type": "code",
   "execution_count": 116,
   "metadata": {},
   "outputs": [],
   "source": [
    "##to check anagram"
   ]
  },
  {
   "cell_type": "code",
   "execution_count": 115,
   "metadata": {},
   "outputs": [
    {
     "name": "stdout",
     "output_type": "stream",
     "text": [
      "its an anagram\n"
     ]
    }
   ],
   "source": [
    "str1='chandan sneha'\n",
    "str2='sneha c h a n d an'\n",
    "str1=str1.lower()\n",
    "str2=str2.lower()\n",
    "str1=str1.replace(' ','')\n",
    "str2=str2.replace(' ','')\n",
    "li=list()\n",
    "li2=list()\n",
    "for i in str1:\n",
    "    li.append(i)\n",
    "for j in str2:\n",
    "    li2.append(j)\n",
    "li.sort()\n",
    "li2.sort()\n",
    "if(li==li2):\n",
    "    print('its an anagram')\n",
    "else:\n",
    "    print('its not an anagram')\n"
   ]
  },
  {
   "cell_type": "code",
   "execution_count": null,
   "metadata": {},
   "outputs": [],
   "source": [
    "#calculate the number of upper, lower ,digits in a string"
   ]
  },
  {
   "cell_type": "code",
   "execution_count": 119,
   "metadata": {},
   "outputs": [
    {
     "name": "stdout",
     "output_type": "stream",
     "text": [
      "the number of lowercase characters= 5 , uppercase characters= 5 , digits= 6\n"
     ]
    }
   ],
   "source": [
    "str1='ChAnDanusnis1Cr16cS040'\n",
    "l=u=d=0\n",
    "for i in str1:\n",
    "    if(i.islower()):\n",
    "        l+=1\n",
    "    elif(i.isupper()):\n",
    "        u+=1\n",
    "    else:\n",
    "        d+=1\n",
    "print('the number of lowercase characters=',l,', uppercase characters=',u,', digits=',d)        \n",
    "        "
   ]
  },
  {
   "cell_type": "code",
   "execution_count": null,
   "metadata": {},
   "outputs": [],
   "source": [
    "#to check whether a number is prime or not"
   ]
  },
  {
   "cell_type": "code",
   "execution_count": 173,
   "metadata": {},
   "outputs": [
    {
     "name": "stdout",
     "output_type": "stream",
     "text": [
      "not a prime\n"
     ]
    }
   ],
   "source": [
    "def isPrime(n): \n",
    "    if n <= 1: \n",
    "        return False\n",
    "    for i in range(2, n//2): \n",
    "        if n % i == 0: \n",
    "            return False; \n",
    "    return True\n",
    "res=isPrime(9)\n",
    "if(res==False):\n",
    "    print('not a prime')\n",
    "else:\n",
    "    print('prime')"
   ]
  },
  {
   "cell_type": "code",
   "execution_count": 174,
   "metadata": {},
   "outputs": [],
   "source": [
    "#FIND THE HCF"
   ]
  },
  {
   "cell_type": "code",
   "execution_count": 177,
   "metadata": {},
   "outputs": [
    {
     "name": "stdout",
     "output_type": "stream",
     "text": [
      "2\n"
     ]
    }
   ],
   "source": [
    "def gcd(n1,n2):\n",
    "    for i in range(1,max(n1,n2)):\n",
    "        if(n1%i==0 and n2%i==0):\n",
    "            gcd=i\n",
    "    return gcd\n",
    "print(gcd(2,8))\n",
    "            "
   ]
  },
  {
   "cell_type": "code",
   "execution_count": null,
   "metadata": {},
   "outputs": [],
   "source": [
    "# to get the students having second highest score"
   ]
  },
  {
   "cell_type": "code",
   "execution_count": 3,
   "metadata": {},
   "outputs": [
    {
     "name": "stdout",
     "output_type": "stream",
     "text": [
      "d\n",
      "c\n",
      "b\n"
     ]
    }
   ],
   "source": [
    "p=[['a',10],['b',40],['c',40],['d',40],['e',50]]\n",
    "p.sort(key=lambda x:x[1])\n",
    "m=max(p,key=lambda x:x[1])\n",
    "max1=m[1]\n",
    "\n",
    "l=len(p)\n",
    "for i in range(l-2,-1,-1):\n",
    "    if(p[i][1]<max1):\n",
    "        print(p[i][0])\n",
    "        break\n",
    "for i in range(l-2,-1,-1):\n",
    "    if(p[i][1]==p[i-1][1]):\n",
    "        print(p[i-1][0])\n",
    "        \n"
   ]
  },
  {
   "cell_type": "code",
   "execution_count": 18,
   "metadata": {},
   "outputs": [],
   "source": [
    "#to print the average of students"
   ]
  },
  {
   "cell_type": "code",
   "execution_count": 7,
   "metadata": {},
   "outputs": [
    {
     "name": "stdout",
     "output_type": "stream",
     "text": [
      "1\n",
      "'chanan' 30 29 30\n",
      "'chanan'\n",
      "29.666666666666668\n"
     ]
    }
   ],
   "source": [
    "n = int(input())\n",
    "stud_dict = dict()\n",
    "\n",
    "for i in range(n):\n",
    "    tmp = input().split(' ')\n",
    "    name = tmp[0]\n",
    "    stud_dict[name] = (float(tmp[1]), float(tmp[2]), float(tmp[3]))\n",
    "    \n",
    "name = input()\n",
    "print((sum(stud_dict[name]) / 3.0))"
   ]
  },
  {
   "cell_type": "code",
   "execution_count": null,
   "metadata": {},
   "outputs": [],
   "source": [
    "#sum of score a student"
   ]
  },
  {
   "cell_type": "code",
   "execution_count": 1,
   "metadata": {},
   "outputs": [
    {
     "name": "stdout",
     "output_type": "stream",
     "text": [
      "1\n",
      "'chandan' 20 20 40\n",
      "'chandan'\n",
      "80.0\n"
     ]
    }
   ],
   "source": [
    "n=int(input())\n",
    "d=dict()\n",
    "for i in range(n):\n",
    "    tmp=input().split()\n",
    "    name=tmp[0]\n",
    "    d[name]=(float(tmp[1]),float(tmp[2]),float(tmp[3]))\n",
    "name=input()\n",
    "print(sum(d[name]))   "
   ]
  },
  {
   "cell_type": "code",
   "execution_count": 11,
   "metadata": {},
   "outputs": [
    {
     "name": "stdout",
     "output_type": "stream",
     "text": [
      "[('Geeks', 5), ('For', 4)]\n",
      "5\n"
     ]
    }
   ],
   "source": [
    "d= { 'Geeks':5,'For':4,}\n",
    "sorted(d.items(),key=lambda x:x[0])\n",
    "l1=list(d.items())\n",
    "print(l1)\n",
    "print(l1[0][1])\n"
   ]
  },
  {
   "cell_type": "code",
   "execution_count": null,
   "metadata": {},
   "outputs": [],
   "source": [
    "#Print the name(s) of any student(s) having the second lowest grade in Physics; \n",
    "#if there are multiple students, order their names alphabetically and print each one on a new line."
   ]
  },
  {
   "cell_type": "code",
   "execution_count": 17,
   "metadata": {},
   "outputs": [
    {
     "name": "stdout",
     "output_type": "stream",
     "text": [
      "For\n",
      "c\n",
      "d\n"
     ]
    }
   ],
   "source": [
    "d= { 'Geeks':5,'For':4,'c':4,'d':4}\n",
    "sorted(d.items(), key=lambda x: x[1])\n",
    "l1=list(d.items())\n",
    "min1=l1[0][1]\n",
    "for i in range(3):\n",
    "    if(l1[i][1]==min1):\n",
    "        continue\n",
    "    else:\n",
    "        secmin=l1[i][1]\n",
    "        x=i\n",
    "        break\n",
    "print(l1[x][0])    \n",
    "for i in range(x,3):\n",
    "    if(l1[i][1]==l1[i+1][1]):\n",
    "        print(l1[i+1][0])\n",
    "    else:\n",
    "        break "
   ]
  },
  {
   "cell_type": "code",
   "execution_count": null,
   "metadata": {},
   "outputs": [],
   "source": []
  }
 ],
 "metadata": {
  "kernelspec": {
   "display_name": "Python 3",
   "language": "python",
   "name": "python3"
  },
  "language_info": {
   "codemirror_mode": {
    "name": "ipython",
    "version": 3
   },
   "file_extension": ".py",
   "mimetype": "text/x-python",
   "name": "python",
   "nbconvert_exporter": "python",
   "pygments_lexer": "ipython3",
   "version": "3.7.1"
  }
 },
 "nbformat": 4,
 "nbformat_minor": 2
}
