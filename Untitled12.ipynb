{
 "cells": [
  {
   "cell_type": "code",
   "execution_count": null,
   "metadata": {},
   "outputs": [],
   "source": [
    "#All the changes made here is reflecting in the sql server database"
   ]
  },
  {
   "cell_type": "code",
   "execution_count": 55,
   "metadata": {},
   "outputs": [
    {
     "name": "stdout",
     "output_type": "stream",
     "text": [
      "[(22638.48, )]\n"
     ]
    }
   ],
   "source": [
    "import pyodbc\n",
    "cnxn = pyodbc.connect(r'Driver={SQL Server};Server=.\\SQLEXPRESS;Database=new;Trusted_Connection=yes;')\n",
    "cursor = cnxn.cursor()\n",
    "max_res=cursor.execute('select max([Sales]) from [dbo].[Global Superstore!!]').fetchall()\n",
    "print(max_res)\n",
    "cursor.execute(\"update [dbo].[Global Superstore!!] set State='Karnataka' where Country='Colombia'\")\n",
    "cnxn.commit()"
   ]
  },
  {
   "cell_type": "code",
   "execution_count": 3,
   "metadata": {},
   "outputs": [],
   "source": [
    "#SELECT first 50 records from database"
   ]
  },
  {
   "cell_type": "code",
   "execution_count": 2,
   "metadata": {},
   "outputs": [
    {
     "name": "stdout",
     "output_type": "stream",
     "text": [
      "(1, 'MX-2014-143658', '2014-10-02', '2014-10-06', 'Standard Class', 'SC-20575', 'Sonia Cooley', 'Consumer', 'Mexico City', 'Distrito Federal', 'Mexico', None, 'LATAM', 'North', 'OFF-LA-10002782', 'Office Supplies', 'Labels', 'Hon File Folder Labels, Adjustable', 13.08, 3, 0.0, 4.56, 1.03, 'Medium')\n",
      "(2, 'MX-2012-155047', '2012-10-15', '2012-10-20', 'Standard Class', 'KW-16570', 'Kelly Williams', 'Consumer', 'Dos Quebradas', 'Karnataka', 'Colombia', None, 'LATAM', 'South', 'FUR-FU-10004015', 'Furniture', 'Furnishings', 'Tenex Clock, Durable', 252.16, 8, 0.0, 90.72, 13.45, 'Medium')\n",
      "(3, 'MX-2012-155047', '2012-10-15', '2012-10-20', 'Standard Class', 'KW-16570', 'Kelly Williams', 'Consumer', 'Dos Quebradas', 'Karnataka', 'Colombia', None, 'LATAM', 'South', 'FUR-BO-10002352', 'Furniture', 'Bookcases', 'Ikea 3-Shelf Cabinet, Mobile', 193.28, 2, 0.0, 54.08, 9.63, 'Medium')\n",
      "(4, 'MX-2012-155047', '2012-10-15', '2012-10-20', 'Standard Class', 'KW-16570', 'Kelly Williams', 'Consumer', 'Dos Quebradas', 'Karnataka', 'Colombia', None, 'LATAM', 'South', 'OFF-BI-10004428', 'Office Supplies', 'Binders', 'Cardinal Binder, Clear', 35.44, 4, 0.0, 4.96, 1.37, 'Medium')\n",
      "(5, 'MX-2012-155047', '2012-10-15', '2012-10-20', 'Standard Class', 'KW-16570', 'Kelly Williams', 'Consumer', 'Dos Quebradas', 'Karnataka', 'Colombia', None, 'LATAM', 'South', 'OFF-AR-10004594', 'Office Supplies', 'Art', 'Sanford Canvas, Water Color', 71.6, 2, 0.0, 11.44, 3.79, 'Medium')\n",
      "(6, 'MX-2012-155047', '2012-10-15', '2012-10-20', 'Standard Class', 'KW-16570', 'Kelly Williams', 'Consumer', 'Dos Quebradas', 'Karnataka', 'Colombia', None, 'LATAM', 'South', 'OFF-EN-10001375', 'Office Supplies', 'Envelopes', 'GlobeWeis Mailers, with clear poly window', 56.12, 2, 0.0, 21.32, 4.72, 'Medium')\n",
      "(7, 'MX-2013-134096', '2013-09-27', '2013-10-01', 'Standard Class', 'DP-13000', 'Darren Powers', 'Consumer', 'S�o Paulo', 'S�o Paulo', 'Brazil', None, 'LATAM', 'South', 'OFF-EN-10001375', 'Office Supplies', 'Envelopes', 'GlobeWeis Mailers, with clear poly window', 56.12, 2, 0.0, 21.32, 4.11, 'Medium')\n",
      "(8, 'MX-2013-134096', '2013-09-27', '2013-10-01', 'Standard Class', 'DP-13000', 'Darren Powers', 'Consumer', 'S�o Paulo', 'S�o Paulo', 'Brazil', None, 'LATAM', 'South', 'TEC-MA-10004956', 'Technology', 'Machines', 'Konica Card Printer, Red', 344.64, 3, 0.0, 165.42, 26.2, 'Medium')\n",
      "(9, 'MX-2013-134096', '2013-09-27', '2013-10-01', 'Standard Class', 'DP-13000', 'Darren Powers', 'Consumer', 'S�o Paulo', 'S�o Paulo', 'Brazil', None, 'LATAM', 'South', 'OFF-SU-10003474', 'Office Supplies', 'Supplies', 'Elite Box Cutter, Easy Grip', 97.36, 4, 0.0, 19.44, 6.86, 'Medium')\n",
      "(10, 'MX-2013-134096', '2013-09-27', '2013-10-01', 'Standard Class', 'DP-13000', 'Darren Powers', 'Consumer', 'S�o Paulo', 'S�o Paulo', 'Brazil', None, 'LATAM', 'South', 'TEC-AC-10001830', 'Technology', 'Accessories', 'Enermax Router, Erganomic', 341.52, 2, 0.0, 13.64, 17.34, 'Medium')\n",
      "(11, 'MX-2013-134096', '2013-09-27', '2013-10-01', 'Standard Class', 'DP-13000', 'Darren Powers', 'Consumer', 'S�o Paulo', 'S�o Paulo', 'Brazil', None, 'LATAM', 'South', 'OFF-BI-10002075', 'Office Supplies', 'Binders', 'Wilson Jones Hole Reinforcements, Durable', 12.06, 3, 0.0, 3.48, 1.13, 'Medium')\n",
      "(12, 'MX-2013-156335', '2013-03-05', '2013-03-12', 'Standard Class', 'TB-21250', 'Tim Brockman', 'Consumer', 'Managua', 'Managua', 'Nicaragua', None, 'LATAM', 'Central', 'OFF-FA-10002526', 'Office Supplies', 'Fasteners', 'Accos Staples, 12 Pack', 20.76, 3, 0.0, 9.54, 0.65, 'Medium')\n",
      "(13, 'MX-2013-156335', '2013-03-05', '2013-03-12', 'Standard Class', 'TB-21250', 'Tim Brockman', 'Consumer', 'Managua', 'Managua', 'Nicaragua', None, 'LATAM', 'Central', 'FUR-CH-10002846', 'Furniture', 'Chairs', 'Hon Steel Folding Chair, Black', 210.64, 4, 0.0, 50.48, 16.07, 'Medium')\n",
      "(14, 'MX-2014-121923', '2014-09-24', '2014-10-01', 'Standard Class', 'PK-18910', 'Paul Knutson', 'Home Office', 'Managua', 'Managua', 'Nicaragua', None, 'LATAM', 'Central', 'OFF-EN-10004100', 'Office Supplies', 'Envelopes', 'Kraft Mailers, Security-Tint', 80.1, 3, 0.0, 37.62, 8.86, 'Low')\n",
      "(15, 'MX-2014-135706', '2014-10-18', '2014-10-23', 'Standard Class', 'JK-15625', 'Jim Karlsson', 'Consumer', 'Bras�lia', 'Federal District', 'Brazil', None, 'LATAM', 'South', 'OFF-AR-10003914', 'Office Supplies', 'Art', 'Stanley Canvas, Easy-Erase', 132.64, 4, 0.0, 35.76, 6.2, 'Medium')\n",
      "(16, 'MX-2014-135706', '2014-10-18', '2014-10-23', 'Standard Class', 'JK-15625', 'Jim Karlsson', 'Consumer', 'Bras�lia', 'Federal District', 'Brazil', None, 'LATAM', 'South', 'OFF-FA-10000038', 'Office Supplies', 'Fasteners', 'Advantus Clamps, Metal', 12.94, 1, 0.0, 1.02, 0.46, 'Medium')\n",
      "(17, 'US-2013-126655', '2013-06-26', '2013-07-01', 'Standard Class', 'HE-14800', 'Harold Engle', 'Corporate', 'San Miguelito', 'Panama', 'Panama', None, 'LATAM', 'Central', 'OFF-EN-10000761', 'Office Supplies', 'Envelopes', 'Jiffy Peel and Seal, with clear poly window', 18.84, 2, 0.4, -6.6, 1.6, 'Medium')\n",
      "(18, 'US-2013-126655', '2013-06-26', '2013-07-01', 'Standard Class', 'HE-14800', 'Harold Engle', 'Corporate', 'San Miguelito', 'Panama', 'Panama', None, 'LATAM', 'Central', 'FUR-FU-10003066', 'Furniture', 'Furnishings', 'Deflect-O Frame, Duo Pack', 308.28, 7, 0.4, -149.1, 27.77, 'Medium')\n",
      "(19, 'US-2013-126655', '2013-06-26', '2013-07-01', 'Standard Class', 'HE-14800', 'Harold Engle', 'Corporate', 'San Miguelito', 'Panama', 'Panama', None, 'LATAM', 'Central', 'OFF-EN-10000075', 'Office Supplies', 'Envelopes', 'GlobeWeis Interoffice Envelope, Security-Tint', 40.176, 2, 0.4, -6.064, 2.14, 'Medium')\n",
      "(20, 'US-2013-126655', '2013-06-26', '2013-07-01', 'Standard Class', 'HE-14800', 'Harold Engle', 'Corporate', 'San Miguelito', 'Panama', 'Panama', None, 'LATAM', 'Central', 'OFF-EN-10002226', 'Office Supplies', 'Envelopes', 'Jiffy Clasp Envelope, Recycled', 8.784, 3, 0.4, -4.836, 0.38, 'Medium')\n",
      "(21, 'MX-2013-167759', '2013-12-19', '2013-12-25', 'Standard Class', 'JE-15610', 'Jim Epp', 'Corporate', 'San Crist�bal de Las Casas', 'Chiapas', 'Mexico', None, 'LATAM', 'North', 'FUR-CH-10002132', 'Furniture', 'Chairs', 'Hon Rocking Chair, Black', 273.472, 4, 0.2, 95.712, 48.17, 'Low')\n",
      "(22, 'MX-2013-163139', '2013-10-29', '2013-11-02', 'Second Class', 'TB-21055', 'Ted Butterfield', 'Consumer', 'Santiago', 'Santiago', 'Chile', None, 'LATAM', 'South', 'TEC-AC-10002749', 'Technology', 'Accessories', 'Enermax Mouse, USB', 27.0, 1, 0.0, 5.94, 3.9, 'High')\n",
      "(23, 'MX-2013-163139', '2013-10-29', '2013-11-02', 'Second Class', 'TB-21055', 'Ted Butterfield', 'Consumer', 'Santiago', 'Santiago', 'Chile', None, 'LATAM', 'South', 'OFF-SU-10000066', 'Office Supplies', 'Supplies', 'Acme Box Cutter, Serrated', 207.0, 9, 0.0, 66.24, 37.86, 'High')\n",
      "(24, 'US-2014-119753', '2014-10-03', '2014-10-08', 'Standard Class', 'DW-13195', 'David Wiener', 'Corporate', 'Panama City', 'Panama', 'Panama', None, 'LATAM', 'Central', 'OFF-BI-10003934', 'Office Supplies', 'Binders', 'Acco Binding Machine, Clear', 60.66, 3, 0.4, -20.22, 4.0, 'Medium')\n",
      "(25, 'US-2012-133970', '2012-09-26', '2012-09-29', 'First Class', 'SJ-20215', 'Sarah Jordon', 'Consumer', 'Hermosillo', 'Sonora', 'Mexico', None, 'LATAM', 'North', 'FUR-FU-10001142', 'Furniture', 'Furnishings', 'Deflect-O Clock, Black', 181.116, 9, 0.4, -75.564, 1.09, 'Medium')\n",
      "(26, 'MX-2014-120607', '2014-06-18', '2014-06-25', 'Standard Class', 'SP-20650', 'Stephanie Phelps', 'Corporate', 'Coyoac�n', 'Distrito Federal', 'Mexico', None, 'LATAM', 'North', 'TEC-CO-10003541', 'Technology', 'Copiers', 'HP Copy Machine, Color', 326.18632, 2, 0.002, 64.70632, 16.78, 'Medium')\n",
      "(27, 'MX-2014-120607', '2014-06-18', '2014-06-25', 'Standard Class', 'SP-20650', 'Stephanie Phelps', 'Corporate', 'Coyoac�n', 'Distrito Federal', 'Mexico', None, 'LATAM', 'North', 'OFF-ST-10004296', 'Office Supplies', 'Storage', 'Rogers Box, Single Width', 80.0, 5, 0.0, 34.4, 5.08, 'Medium')\n",
      "(28, 'US-2013-167129', '2013-05-24', '2013-05-31', 'Standard Class', 'SC-20050', 'Sample Company A', 'Home Office', 'Tegucigalpa', 'Francisco Moraz�n', 'Honduras', None, 'LATAM', 'Central', 'OFF-BI-10003709', 'Office Supplies', 'Binders', 'Wilson Jones Binding Machine, Durable', 141.288, 7, 0.4, -73.052, 9.47, 'Medium')\n",
      "(29, 'US-2013-167129', '2013-05-24', '2013-05-31', 'Standard Class', 'SC-20050', 'Sample Company A', 'Home Office', 'Tegucigalpa', 'Francisco Moraz�n', 'Honduras', None, 'LATAM', 'Central', 'OFF-FA-10003529', 'Office Supplies', 'Fasteners', 'Stockwell Thumb Tacks, Metal', 21.84, 4, 0.4, -3.28, 1.09, 'Medium')\n",
      "(30, 'US-2013-167129', '2013-05-24', '2013-05-31', 'Standard Class', 'SC-20050', 'Sample Company A', 'Home Office', 'Tegucigalpa', 'Francisco Moraz�n', 'Honduras', None, 'LATAM', 'Central', 'TEC-PH-10002483', 'Technology', 'Phones', 'Motorola Office Telephone, with Caller ID', 114.816, 4, 0.4, -49.824, 5.92, 'Medium')\n",
      "(31, 'US-2013-167129', '2013-05-24', '2013-05-31', 'Standard Class', 'SC-20050', 'Sample Company A', 'Home Office', 'Tegucigalpa', 'Francisco Moraz�n', 'Honduras', None, 'LATAM', 'Central', 'OFF-AR-10002055', 'Office Supplies', 'Art', 'Binney & Smith Markers, Blue', 19.272, 2, 0.4, 2.872, 1.84, 'Medium')\n",
      "(32, 'US-2013-167129', '2013-05-24', '2013-05-31', 'Standard Class', 'SC-20050', 'Sample Company A', 'Home Office', 'Tegucigalpa', 'Francisco Moraz�n', 'Honduras', None, 'LATAM', 'Central', 'OFF-AP-10000023', 'Office Supplies', 'Appliances', 'Breville Toaster, Black', 152.28, 5, 0.4, -99.02, 16.25, 'Medium')\n",
      "(33, 'US-2013-167129', '2013-05-24', '2013-05-31', 'Standard Class', 'SC-20050', 'Sample Company A', 'Home Office', 'Tegucigalpa', 'Francisco Moraz�n', 'Honduras', None, 'LATAM', 'Central', 'TEC-CO-10004904', 'Technology', 'Copiers', 'Sharp Fax Machine, Digital', 941.77824, 8, 0.402, -601.74176, 80.28, 'Medium')\n",
      "(34, 'US-2013-167129', '2013-05-24', '2013-05-31', 'Standard Class', 'SC-20050', 'Sample Company A', 'Home Office', 'Tegucigalpa', 'Francisco Moraz�n', 'Honduras', None, 'LATAM', 'Central', 'OFF-AR-10000404', 'Office Supplies', 'Art', 'Stanley Pencil Sharpener, Easy-Erase', 10.416, 1, 0.4, -0.704, 0.93, 'Medium')\n",
      "(35, 'MX-2014-100727', '2014-05-15', '2014-05-18', 'First Class', 'DM-13525', 'Don Miller', 'Corporate', 'Mexico City', 'Distrito Federal', 'Mexico', None, 'LATAM', 'North', 'OFF-SU-10004480', 'Office Supplies', 'Supplies', 'Fiskars Box Cutter, Serrated', 300.72, 14, 0.0, 129.08, 21.22, 'High')\n",
      "(36, 'MX-2014-100727', '2014-05-15', '2014-05-18', 'First Class', 'DM-13525', 'Don Miller', 'Corporate', 'Mexico City', 'Distrito Federal', 'Mexico', None, 'LATAM', 'North', 'OFF-SU-10003162', 'Office Supplies', 'Supplies', 'Acme Letter Opener, Steel', 138.18, 7, 0.0, 53.76, 19.54, 'High')\n",
      "(37, 'MX-2014-100727', '2014-05-15', '2014-05-18', 'First Class', 'DM-13525', 'Don Miller', 'Corporate', 'Mexico City', 'Distrito Federal', 'Mexico', None, 'LATAM', 'North', 'OFF-SU-10002521', 'Office Supplies', 'Supplies', 'Kleencut Box Cutter, Steel', 90.8, 4, 0.0, 31.76, 21.76, 'High')\n",
      "(38, 'MX-2014-154739', '2014-07-04', '2014-07-07', 'Second Class', 'SC-20440', 'Shaun Chance', 'Corporate', 'Artemisa', 'Artemisa', 'Cuba', None, 'LATAM', 'Caribbean', 'FUR-TA-10004531', 'Furniture', 'Tables', 'Chromcraft Coffee Table, Rectangular', 529.32, 3, 0.0, 264.66, 94.28, 'High')\n",
      "(39, 'MX-2014-154739', '2014-07-04', '2014-07-07', 'Second Class', 'SC-20440', 'Shaun Chance', 'Corporate', 'Artemisa', 'Artemisa', 'Cuba', None, 'LATAM', 'Caribbean', 'FUR-BO-10002679', 'Furniture', 'Bookcases', 'Ikea Stackable Bookrack, Mobile', 333.6, 4, 0.0, 106.72, 45.85, 'High')\n",
      "(40, 'MX-2014-154739', '2014-07-04', '2014-07-07', 'Second Class', 'SC-20440', 'Shaun Chance', 'Corporate', 'Artemisa', 'Artemisa', 'Cuba', None, 'LATAM', 'Caribbean', 'OFF-FA-10004587', 'Office Supplies', 'Fasteners', 'Advantus Rubber Bands, 12 Pack', 42.72, 4, 0.0, 0.4, 6.97, 'High')\n",
      "(41, 'MX-2014-121398', '2014-12-09', '2014-12-11', 'Second Class', 'AR-10825', 'Anthony Rawles', 'Corporate', 'La Romana', 'La Romana', 'Dominican Republic', None, 'LATAM', 'Caribbean', 'OFF-SU-10001132', 'Office Supplies', 'Supplies', 'Fiskars Trimmer, Serrated', 62.4, 3, 0.2, 8.58, 15.74, 'Critical')\n",
      "(42, 'MX-2013-121839', '2013-06-17', '2013-06-21', 'Second Class', 'RW-19690', 'Robert Waldorf', 'Consumer', 'Milpa Alta', 'Distrito Federal', 'Mexico', None, 'LATAM', 'North', 'TEC-PH-10001288', 'Technology', 'Phones', 'Motorola Speaker Phone, with Caller ID', 346.08, 4, 0.0, 155.68, 33.64, 'High')\n",
      "(43, 'MX-2014-142643', '2014-10-29', '2014-11-02', 'Standard Class', 'MT-17815', 'Meg Tillman', 'Consumer', 'San Juan del R�o', 'Quer�taro', 'Mexico', None, 'LATAM', 'North', 'TEC-MA-10003625', 'Technology', 'Machines', 'Panasonic Inkjet, White', 414.0, 2, 0.0, 45.52, 21.91, 'Medium')\n",
      "(44, 'MX-2014-142643', '2014-10-29', '2014-11-02', 'Standard Class', 'MT-17815', 'Meg Tillman', 'Consumer', 'San Juan del R�o', 'Quer�taro', 'Mexico', None, 'LATAM', 'North', 'OFF-AP-10002681', 'Office Supplies', 'Appliances', 'Hamilton Beach Stove, Black', 722.36, 2, 0.0, 50.56, 44.08, 'Medium')\n",
      "(45, 'MX-2014-142643', '2014-10-29', '2014-11-02', 'Standard Class', 'MT-17815', 'Meg Tillman', 'Consumer', 'San Juan del R�o', 'Quer�taro', 'Mexico', None, 'LATAM', 'North', 'TEC-AC-10004939', 'Technology', 'Accessories', 'Memorex Mouse, Bluetooth', 56.34, 3, 0.0, 3.9, 2.52, 'Medium')\n",
      "(46, 'MX-2014-164959', '2014-01-16', '2014-01-17', 'Same Day', 'LC-16960', 'Lindsay Castell', 'Home Office', 'Goi�nia', 'Goi�s', 'Brazil', None, 'LATAM', 'South', 'FUR-CH-10002088', 'Furniture', 'Chairs', 'Novimex Steel Folding Chair, Set of Two', 168.96, 3, 0.0, 40.5, 55.02, 'Critical')\n",
      "(47, 'US-2012-151372', '2012-04-27', '2012-05-02', 'Standard Class', 'AS-10240', 'Alan Shonely', 'Consumer', 'Santo Domingo', 'Santo Domingo', 'Dominican Republic', None, 'LATAM', 'Caribbean', 'OFF-ST-10003184', 'Office Supplies', 'Storage', 'Eldon Trays, Wire Frame', 125.44, 5, 0.2, -0.06, 10.19, 'Medium')\n",
      "(48, 'US-2012-151372', '2012-04-27', '2012-05-02', 'Standard Class', 'AS-10240', 'Alan Shonely', 'Consumer', 'Santo Domingo', 'Santo Domingo', 'Dominican Republic', None, 'LATAM', 'Caribbean', 'TEC-CO-10001756', 'Technology', 'Copiers', 'Canon Personal Copier, Color', 153.40752, 2, 0.202, 36.12752, 14.25, 'Medium')\n",
      "(49, 'MX-2011-127145', '2011-06-12', '2011-06-17', 'Standard Class', 'SF-20200', 'Sarah Foster', 'Consumer', 'S�o Benedito', 'Cear�', 'Brazil', None, 'LATAM', 'South', 'FUR-FU-10003608', 'Furniture', 'Furnishings', 'Advantus Light Bulb, Black', 26.76, 2, 0.0, 7.48, 2.04, 'High')\n",
      "(50, 'MX-2014-100783', '2014-05-06', '2014-05-10', 'Standard Class', 'MG-18205', 'Mitch Gastineau', 'Corporate', 'Medell�n', 'Karnataka', 'Colombia', None, 'LATAM', 'South', 'OFF-FA-10002353', 'Office Supplies', 'Fasteners', 'Accos Paper Clips, Metal', 44.9, 5, 0.0, 8.5, 3.21, 'Medium')\n"
     ]
    }
   ],
   "source": [
    "cnxn = pyodbc.connect(r'Driver={SQL Server};Server=.\\SQLEXPRESS;Database=new;Trusted_Connection=yes;')\n",
    "cursor = cnxn.cursor()\n",
    "cursor.execute(\"SELECT * FROM [dbo].[Global Superstore!!]\")\n",
    "i=0\n",
    "while i<50:\n",
    "    row = cursor.fetchone()\n",
    "    if not row:\n",
    "        break\n",
    "    print(row)\n",
    "    i+=1\n",
    "cnxn.close()"
   ]
  },
  {
   "cell_type": "code",
   "execution_count": null,
   "metadata": {},
   "outputs": [],
   "source": [
    "#UPDATE SOME RECORDS IN THE DATABASE"
   ]
  },
  {
   "cell_type": "code",
   "execution_count": 20,
   "metadata": {},
   "outputs": [],
   "source": [
    "cnxn = pyodbc.connect('Driver={SQL Server};Server=KTCL-5CG9362KJQ\\SQLEXPRESS;Database=new;Trusted_Connection=yes;')\n",
    "cursor = cnxn.cursor()\n",
    "cursor.execute('SELECT * FROM new.[dbo].[Global Superstore!!]')\n",
    "cursor.execute('''UPDATE new.[dbo].[Global Superstore!!]\n",
    "                    SET State = 'Not req'\n",
    "                    WHERE Country='Colombia'\n",
    "                    ''')\n",
    "cnxn.commit()"
   ]
  },
  {
   "cell_type": "code",
   "execution_count": null,
   "metadata": {},
   "outputs": [],
   "source": [
    "#INSERT ROWS INTO THE DATABASE"
   ]
  },
  {
   "cell_type": "code",
   "execution_count": 70,
   "metadata": {},
   "outputs": [],
   "source": [
    "cursor=cnxn.cursor()\n",
    "cursor.execute('''Insert into new.[dbo].[Global Superstore!!] values(60007,'CA-2012-124891','12/27/2014','9/30/2015','First Class','RH-19495','Ankit','Consumer','Banglore','Karnataka','INDIA',1,'APAC','North','TEC-AC-10003033', 'Technology','Accessories','OPPO',10000,2,0.0,458,234,'Medium'),(60008,'CA-2012-124891','12/27/2014','9/30/2015','First Class','RH-19495','Sagar','Consumer','Chickamagalur','Karnataka','INDIA',1,'APAC','North','TEC-AC-10003033', 'Technology','Accessories','OPPO',10500,2,0.0,458,234,'Medium')''')\n",
    "cnxn.commit()           "
   ]
  },
  {
   "cell_type": "code",
   "execution_count": null,
   "metadata": {},
   "outputs": [],
   "source": [
    "#Update value for those 5 records using group by and where condition"
   ]
  },
  {
   "cell_type": "code",
   "execution_count": 43,
   "metadata": {},
   "outputs": [],
   "source": [
    "cursor = cnxn.cursor()\n",
    "cursor.execute('''UPDATE new.[dbo].[Global Superstore!!]\n",
    "                    SET State = 'maha'\n",
    "                    WHERE Row_ID=60004\n",
    "                    ''')\n",
    "cnxn.commit()"
   ]
  },
  {
   "cell_type": "code",
   "execution_count": null,
   "metadata": {},
   "outputs": [],
   "source": [
    "#Delete a record from the table "
   ]
  },
  {
   "cell_type": "code",
   "execution_count": 67,
   "metadata": {},
   "outputs": [],
   "source": [
    "cursor = cnxn.cursor()\n",
    "cursor.execute('''delete from new.[dbo].[Global Superstore!!] where Row_ID=60001\n",
    "                    ''')\n",
    "cnxn.commit()"
   ]
  },
  {
   "cell_type": "code",
   "execution_count": null,
   "metadata": {},
   "outputs": [],
   "source": [
    "#To get the last five records updated"
   ]
  },
  {
   "cell_type": "code",
   "execution_count": 69,
   "metadata": {},
   "outputs": [
    {
     "name": "stdout",
     "output_type": "stream",
     "text": [
      "[(60004, 'CA-2012-124891', '2014-12-27', '2015-09-30', 'First Class', 'RH-19495', 'Sagar', 'Consumer', 'Chickamagalur', 'maha', 'INDIA', 1, 'APAC', 'North', 'TEC-AC-10003033', 'Technology', 'Accessories', 'OPPO', 10500.0, 2, 0.0, 458.0, 234.0, 'Medium'), (60003, 'CA-2012-124891', '2014-12-27', '2015-09-30', 'First Class', 'RH-19495', 'Prashanth', 'Consumer', 'Chickamagalur', 'Karnataka', 'INDIA', 1, 'APAC', 'North', 'TEC-AC-10003033', 'Technology', 'Accessories', 'OPPO', 10000.0, 2, 0.0, 458.0, 234.0, 'Medium'), (60002, 'CA-2012-124891', '2014-12-27', '2015-09-30', 'First Class', 'RH-19495', 'Belaku', 'Consumer', 'Chickamagalur', 'Karnataka', 'INDIA', 1, 'APAC', 'North', 'TEC-AC-10003033', 'Technology', 'Accessories', 'MI', 9000.0, 2, 0.0, 458.0, 234.0, 'Medium'), (60000, 'CA-2012-124891', '2012-07-31', '2012-08-31', 'Second Class', 'RH-19495', 'chandan', 'Consumer', 'Banglore', 'Karnataka', 'INDIA', 1, 'APAC', 'North', 'TEC-AC-10003033', 'Technology', 'Accessories', 'Nokia Smart Phone with Caller ID', 5478.0, 2, 0.0, 458.0, 234.0, 'Critical'), (51290, 'IZ-2011-5750', '2011-08-25', '2011-08-29', 'Standard Class', 'SZ-10035', 'Sam Zeldin', 'Home Office', 'Baghdad', 'Baghdad', 'Iraq', None, 'EMEA', 'EMEA', 'OFF-ACC-10002343', 'Office Supplies', 'Binders', 'Acco 3-Hole Punch, Durable', 31.62, 1, 0.0, 12.96, 2.4, 'Medium')]\n"
     ]
    }
   ],
   "source": [
    "cursor = cnxn.cursor()\n",
    "last_five_record=cursor.execute('''SELECT TOP 5 * FROM [dbo].[Global Superstore!!] ORDER BY [Row_ID] DESC\n",
    "                    ''').fetchall()\n",
    "print(last_five_record)\n",
    "cnxn.commit()"
   ]
  },
  {
   "cell_type": "code",
   "execution_count": null,
   "metadata": {},
   "outputs": [],
   "source": [
    "#using aggregate values on databse"
   ]
  },
  {
   "cell_type": "code",
   "execution_count": null,
   "metadata": {},
   "outputs": [],
   "source": [
    "#Maximum sales by country "
   ]
  },
  {
   "cell_type": "code",
   "execution_count": 48,
   "metadata": {},
   "outputs": [
    {
     "name": "stdout",
     "output_type": "stream",
     "text": [
      "[('Finland', 2768.58), ('Martinique', 1773.72), ('Rwanda', 865.98), ('South Korea', 2605.392), ('Bahrain', 625.02), ('Myanmar (Burma)', 2183.979), ('Liberia', 1429.44), ('Guatemala', 3117.088), ('Macedonia', 98.88), ('Vietnam', 2672.517), ('New Zealand', 6439.8), ('Angola', 2478.6), ('Uganda', 220.536), ('Egypt', 2679.12), ('Kyrgyzstan', 598.32), ('Mali', 1878.72), ('Italy', 7958.58), ('Azerbaijan', 2058.0), ('Brazil', 3408.0), ('Guinea-Bissau', 639.0), ('Netherlands', 2570.865), ('Namibia', 1464.12), ('Cameroon', 2453.04), ('Jordan', 1054.02), ('Madagascar', 1519.92), ('Belarus', 2757.78), ('Hong Kong', 2105.04), ('Guadeloupe', 332.96), ('Bolivia', 1401.84), ('Malaysia', 2761.2), ('Sri Lanka', 445.5), ('Jamaica', 1380.9), ('Indonesia', 4242.3624), ('Germany', 4748.436), ('Philippines', 3386.859), ('Uzbekistan', 1124.1), ('Cuba', 2818.08), ('Lithuania', 2171.16), ('Senegal', 3908.88), ('Barbados', 1838.1), ('Hungary', 3449.88), ('Switzerland', 3421.71), ('United States', 22638.48), ('Estonia', 1467.36), ('Algeria', 1908.72), ('Ecuador', 2286.88), ('Nigeria', 1669.248), ('El Salvador', 2968.7), ('Mongolia', 1244.16), ('Bosnia and Herzegovina', 740.34), ('Montenegro', 3234.24), ('Lebanon', 624.42), ('Ethiopia', 366.0), ('Saudi Arabia', 5211.12), ('Iraq', 3425.4), ('Chad', 1288.8), ('Australia', 5759.964), ('Republic of the Congo', 1660.8), ('United Kingdom', 5785.02), ('Mexico', 3474.08), ('Albania', 1619.1), ('Sierra Leone', 690.48), ('Sweden', 2830.425), ('Honduras', 2180.244), ('Nicaragua', 2797.248), ('Kenya', 1579.92), ('Ukraine', 4486.86), ('Trinidad and Tobago', 2076.48), ('Argentina', 2300.616), ('China', 5737.5), ('Armenia', 94.2), ('Peru', 986.904), ('Democratic Republic of the Congo', 3908.88), ('Libya', 2470.5), ('India', 10500.0), (\"Cote d'Ivoire\", 5100.0), ('Croatia', 861.9), ('Austria', 3221.4), ('United Arab Emirates', 224.748), ('Russia', 3498.72), ('Equatorial Guinea', 124.29), ('Israel', 1625.76), ('Uruguay', 3473.14), ('Zimbabwe', 627.228), ('Qatar', 2575.92), ('Swaziland', 204.36), ('Syria', 1570.176), ('Poland', 1977.72), ('Canada', 3863.88), ('Bulgaria', 1811.34), ('Afghanistan', 4626.15), ('Togo', 620.64), ('Central African Republic', 1000.26), ('Burundi', 217.02), ('Sudan', 1233.84), ('Slovenia', 1180.44), ('South Sudan', 667.32), ('Haiti', 1091.412), ('Tunisia', 831.24), ('Moldova', 770.4), ('Ireland', 1029.375), ('Slovakia', 279.21), ('Mozambique', 2582.16), ('Gabon', 513.12), ('Somalia', 3834.0), ('Guinea', 793.8), ('Thailand', 3741.5238), ('Norway', 1601.46), ('France', 5729.346), ('Benin', 1377.9), ('Dominican Republic', 2375.296), ('Belgium', 4195.2), ('Japan', 6998.64), ('Turkmenistan', 321.858), ('Morocco', 5301.24), ('Tajikistan', 235.332), ('Georgia', 1900.44), ('Spain', 6517.08), ('Yemen', 645.948), ('Papua New Guinea', 1142.064), ('Turkey', 3085.344), ('Eritrea', 169.92), ('Venezuela', 1054.02), ('Bangladesh', 3728.43), ('Ghana', 2605.56), ('Denmark', 920.4), ('Pakistan', 3499.155), ('Romania', 1680.3), ('Singapore', 2051.1), ('Colombia', 3172.14), ('Lesotho', 3799.08), ('Panama', 1564.56), ('Cambodia', 2673.36), ('Tanzania', 3409.74), ('Mauritania', 1571.22), ('Niger', 1091.04), ('Iran', 3369.24), ('Chile', 2423.54), ('Nepal', 759.66), ('South Africa', 2784.6), ('Djibouti', 825.6), ('Czech Republic', 910.98), ('Zambia', 2180.34), ('Portugal', 3399.66), ('Taiwan', 2197.5), ('Kazakhstan', 383.904), ('Paraguay', 820.08)]\n"
     ]
    }
   ],
   "source": [
    "cursor = cnxn.cursor()\n",
    "max_of_sales=cursor.execute('''SELECT Country,MAX(Sales) from new.[dbo].[Global Superstore!!] group by Country\n",
    "                    ''').fetchall()\n",
    "print(max_of_sales)\n",
    "cnxn.commit()\n"
   ]
  },
  {
   "cell_type": "code",
   "execution_count": 49,
   "metadata": {},
   "outputs": [],
   "source": [
    "#minimum sales by country"
   ]
  },
  {
   "cell_type": "code",
   "execution_count": 51,
   "metadata": {},
   "outputs": [
    {
     "name": "stdout",
     "output_type": "stream",
     "text": [
      "[('Finland', 9.12), ('Martinique', 6.18), ('Rwanda', 15.72), ('South Korea', 2.955), ('Bahrain', 44.16), ('Myanmar (Burma)', 4.731), ('Liberia', 10.26), ('Guatemala', 5.76), ('Macedonia', 10.98), ('Vietnam', 7.968), ('New Zealand', 2.88), ('Angola', 4.8), ('Uganda', 2.349), ('Egypt', 4.89), ('Kyrgyzstan', 8.79), ('Mali', 6.12), ('Italy', 7.62), ('Azerbaijan', 7.62), ('Brazil', 2.272), ('Guinea-Bissau', 11.43), ('Netherlands', 4.53), ('Namibia', 8.4), ('Cameroon', 4.53), ('Jordan', 6.78), ('Madagascar', 4.65), ('Belarus', 6.72), ('Hong Kong', 11.85), ('Guadeloupe', 39.22), ('Bolivia', 5.72), ('Malaysia', 8.16), ('Sri Lanka', 27.24), ('Jamaica', 7.12), ('Indonesia', 3.3231), ('Germany', 4.8), ('Philippines', 4.5705), ('Uzbekistan', 5.7), ('Cuba', 3.18), ('Lithuania', 1.935), ('Senegal', 5.91), ('Barbados', 6.84), ('Hungary', 9.27), ('Switzerland', 11.61), ('United States', 0.444), ('Estonia', 12.72), ('Algeria', 4.8), ('Ecuador', 4.32), ('Nigeria', 1.161), ('El Salvador', 3.18), ('Mongolia', 7.95), ('Bosnia and Herzegovina', 22.8), ('Montenegro', 10.53), ('Lebanon', 12.66), ('Ethiopia', 17.46), ('Saudi Arabia', 3.87), ('Iraq', 3.87), ('Chad', 28.23), ('Australia', 4.41), ('Republic of the Congo', 45.6), ('United Kingdom', 4.5), ('Mexico', 3.86), ('Albania', 6.45), ('Sierra Leone', 10.8), ('Sweden', 3.33), ('Honduras', 2.364), ('Nicaragua', 4.1), ('Kenya', 5.7), ('Ukraine', 3.99), ('Trinidad and Tobago', 15.732), ('Argentina', 1.566), ('China', 4.8), ('Armenia', 20.49), ('Peru', 3.144), ('Democratic Republic of the Congo', 3.99), ('Libya', 8.46), ('India', 4.53), (\"Cote d'Ivoire\", 3.87), ('Croatia', 6.69), ('Austria', 3.99), ('United Arab Emirates', 3.159), ('Russia', 5.04), ('Equatorial Guinea', 6.48), ('Israel', 4.41), ('Uruguay', 8.44), ('Zimbabwe', 1.161), ('Qatar', 7.62), ('Swaziland', 83.67), ('Syria', 11.34), ('Poland', 4.77), ('Canada', 3.99), ('Bulgaria', 3.99), ('Afghanistan', 13.26), ('Togo', 7.98), ('Central African Republic', 23.46), ('Burundi', 50.7), ('Sudan', 5.91), ('Slovenia', 136.08), ('South Sudan', 378.3), ('Haiti', 3.264), ('Tunisia', 6.66), ('Moldova', 4.56), ('Ireland', 5.745), ('Slovakia', 24.0), ('Mozambique', 5.91), ('Gabon', 7.62), ('Somalia', 6.99), ('Guinea', 10.74), ('Thailand', 5.5173), ('Norway', 12.78), ('France', 4.455), ('Benin', 6.03), ('Dominican Republic', 3.552), ('Belgium', 4.89), ('Japan', 10.68), ('Turkmenistan', 3.294), ('Morocco', 3.99), ('Tajikistan', 3.024), ('Georgia', 10.08), ('Spain', 6.0), ('Yemen', 3.438), ('Papua New Guinea', 3.975), ('Turkey', 1.548), ('Eritrea', 17.82), ('Venezuela', 1.956), ('Bangladesh', 6.48), ('Ghana', 9.6), ('Denmark', 2.955), ('Pakistan', 3.495), ('Romania', 9.03), ('Singapore', 9.3), ('Colombia', 3.18), ('Lesotho', 57.33), ('Panama', 3.18), ('Cambodia', 9.84), ('Tanzania', 4.41), ('Mauritania', 12.24), ('Niger', 6.33), ('Iran', 3.99), ('Chile', 5.2), ('Nepal', 14.01), ('South Africa', 3.99), ('Djibouti', 16.65), ('Czech Republic', 4.89), ('Zambia', 5.91), ('Portugal', 6.81), ('Taiwan', 23.7), ('Kazakhstan', 1.44), ('Paraguay', 19.24)]\n"
     ]
    }
   ],
   "source": [
    "cursor = cnxn.cursor()\n",
    "min_of_sales=cursor.execute('''SELECT Country,MIN(Sales) from new.[dbo].[Global Superstore!!] group by Country\n",
    "                    ''').fetchall()\n",
    "print(min_of_sales)\n",
    "cnxn.commit()"
   ]
  },
  {
   "cell_type": "code",
   "execution_count": null,
   "metadata": {},
   "outputs": [],
   "source": [
    "#total amount of sales by country"
   ]
  },
  {
   "cell_type": "code",
   "execution_count": 52,
   "metadata": {},
   "outputs": [
    {
     "name": "stdout",
     "output_type": "stream",
     "text": [
      "[('Finland', 20704.350000000002), ('Martinique', 5968.15104), ('Rwanda', 5194.080000000002), ('South Korea', 33125.379000000015), ('Bahrain', 669.18), ('Myanmar (Burma)', 34138.87169999998), ('Liberia', 3560.8800000000006), ('Guatemala', 131602.46675999995), ('Macedonia', 209.64000000000001), ('Vietnam', 65800.1994), ('New Zealand', 172020.62399999998), ('Angola', 25554.0), ('Uganda', 1621.935), ('Egypt', 84139.31999999996), ('Kyrgyzstan', 5106.299999999999), ('Mali', 8914.469999999998), ('Italy', 289709.65799999936), ('Azerbaijan', 5631.51), ('Brazil', 361106.41896000016), ('Guinea-Bissau', 2065.44), ('Netherlands', 77514.94500000008), ('Namibia', 2899.47), ('Cameroon', 22349.370000000006), ('Jordan', 7326.15), ('Madagascar', 12617.550000000003), ('Belarus', 13386.09), ('Hong Kong', 6147.000000000002), ('Guadeloupe', 1461.6399999999999), ('Bolivia', 11588.970000000003), ('Malaysia', 61362.210000000036), ('Sri Lanka', 851.8199999999999), ('Jamaica', 6761.78584), ('Indonesia', 404887.4978999998), ('Germany', 628840.0305000001), ('Philippines', 183420.16500000012), ('Uzbekistan', 7329.87), ('Cuba', 158854.93548000013), ('Lithuania', 6724.332), ('Senegal', 28848.9), ('Barbados', 7174.273920000002), ('Hungary', 14254.050000000005), ('Switzerland', 24877.860000000004), ('United States', 2297200.860299955), ('Estonia', 4479.84), ('Algeria', 36091.59000000001), ('Ecuador', 13342.980359999998), ('Nigeria', 54350.352), ('El Salvador', 177554.90320000018), ('Mongolia', 6789.839999999999), ('Bosnia and Herzegovina', 2599.26), ('Montenegro', 4004.37), ('Lebanon', 2796.66), ('Ethiopia', 850.62), ('Saudi Arabia', 82012.2), ('Iraq', 70714.79999999997), ('Chad', 1317.03), ('Australia', 925235.8529999991), ('Republic of the Congo', 2713.2299999999996), ('United Kingdom', 528576.2999999992), ('Mexico', 622590.6175200003), ('Albania', 3888.1199999999994), ('Sierra Leone', 2447.6700000000005), ('Sweden', 30491.403), ('Honduras', 90125.64859999997), ('Nicaragua', 149687.06456000003), ('Kenya', 17573.129999999997), ('Ukraine', 86857.17), ('Trinidad and Tobago', 6881.164479999999), ('Argentina', 57511.783280000025), ('China', 700562.024999999), ('Armenia', 156.75), ('Peru', 17833.183719999997), ('Democratic Republic of the Congo', 87416.57999999999), ('Libya', 7808.399999999999), ('India', 624628.1049999996), (\"Cote d'Ivoire\", 25618.170000000002), ('Croatia', 4461.18), ('Austria', 92539.05000000009), ('United Arab Emirates', 744.1200000000001), ('Russia', 82913.88), ('Equatorial Guinea', 150.51), ('Israel', 19294.079999999998), ('Uruguay', 9712.544000000004), ('Zimbabwe', 3765.105), ('Qatar', 6049.8), ('Swaziland', 288.03000000000003), ('Syria', 5310.63), ('Poland', 44228.85000000002), ('Canada', 66928.17), ('Bulgaria', 15557.639999999998), ('Afghanistan', 21673.320000000003), ('Togo', 4146.42), ('Central African Republic', 2377.5600000000004), ('Burundi', 267.72), ('Sudan', 16338.569999999994), ('Slovenia', 1469.94), ('South Sudan', 1045.6200000000001), ('Haiti', 11038.328999999996), ('Tunisia', 1760.79), ('Moldova', 5139.929999999999), ('Ireland', 16639.508999999995), ('Slovakia', 865.3199999999999), ('Mozambique', 21302.879999999997), ('Gabon', 1751.73), ('Somalia', 8185.049999999999), ('Guinea', 3498.27), ('Thailand', 77051.95500000007), ('Norway', 20525.370000000003), ('France', 858931.082999999), ('Benin', 6212.0700000000015), ('Dominican Republic', 126140.58128000001), ('Belgium', 49226.70000000003), ('Japan', 100787.51699999999), ('Turkmenistan', 2027.061), ('Morocco', 87077.94), ('Tajikistan', 242.784), ('Georgia', 5427.42), ('Spain', 287146.6800000002), ('Yemen', 2465.712), ('Papua New Guinea', 2928.1350000000007), ('Turkey', 108507.94799999989), ('Eritrea', 187.73999999999998), ('Venezuela', 26587.82955999999), ('Bangladesh', 78256.47), ('Ghana', 23272.25999999999), ('Denmark', 8638.053000000002), ('Pakistan', 58872.61200000002), ('Romania', 37256.58000000001), ('Singapore', 40286.24999999999), ('Colombia', 81502.52975999995), ('Lesotho', 6711.99), ('Panama', 51539.92752000002), ('Cambodia', 17476.02), ('Tanzania', 26816.138999999992), ('Mauritania', 4020.93), ('Niger', 6922.9800000000005), ('Iran', 113746.10999999999), ('Chile', 35447.07072), ('Nepal', 3522.24), ('South Africa', 95292.27000000006), ('Djibouti', 2392.95), ('Czech Republic', 9573.93), ('Zambia', 26035.499999999996), ('Portugal', 15105.12), ('Taiwan', 7647.629999999999), ('Kazakhstan', 4605.4439999999995), ('Paraguay', 2590.36752)]\n"
     ]
    }
   ],
   "source": [
    "cursor = cnxn.cursor()\n",
    "max_of_sales=cursor.execute('''SELECT Country,sum(Sales) from new.[dbo].[Global Superstore!!] group by Country\n",
    "                    ''').fetchall()\n",
    "print(max_of_sales)\n",
    "cnxn.commit()"
   ]
  },
  {
   "cell_type": "code",
   "execution_count": 53,
   "metadata": {},
   "outputs": [],
   "source": [
    "#count of transactions by countries"
   ]
  },
  {
   "cell_type": "code",
   "execution_count": 62,
   "metadata": {},
   "outputs": [
    {
     "name": "stdout",
     "output_type": "stream",
     "text": [
      "[('Finland', 64), ('Martinique', 25), ('Rwanda', 36), ('South Korea', 172), ('Bahrain', 2), ('Myanmar (Burma)', 136), ('Liberia', 15), ('Guatemala', 521), ('Macedonia', 4), ('Vietnam', 265), ('New Zealand', 628), ('Angola', 122), ('Uganda', 37), ('Egypt', 487), ('Kyrgyzstan', 40), ('Mali', 43), ('Italy', 1108), ('Azerbaijan', 29), ('Brazil', 1599), ('Guinea-Bissau', 9), ('Netherlands', 435), ('Namibia', 9), ('Cameroon', 110), ('Jordan', 42), ('Madagascar', 56), ('Belarus', 80), ('Hong Kong', 21), ('Guadeloupe', 8), ('Bolivia', 48), ('Malaysia', 176), ('Sri Lanka', 7), ('Jamaica', 31), ('Indonesia', 1390), ('Germany', 2065), ('Philippines', 681), ('Uzbekistan', 48), ('Cuba', 724), ('Lithuania', 50), ('Senegal', 112), ('Barbados', 26), ('Hungary', 66), ('Switzerland', 78), ('United States', 9994), ('Estonia', 13), ('Algeria', 196), ('Ecuador', 56), ('Nigeria', 905), ('El Salvador', 736), ('Mongolia', 37), ('Bosnia and Herzegovina', 17), ('Montenegro', 4), ('Lebanon', 12), ('Ethiopia', 7), ('Saudi Arabia', 361), ('Iraq', 388), ('Chad', 2), ('Australia', 2837), ('Republic of the Congo', 6), ('United Kingdom', 1633), ('Mexico', 2644), ('Albania', 16), ('Sierra Leone', 15), ('Sweden', 203), ('Honduras', 713), ('Nicaragua', 614), ('Kenya', 98), ('Ukraine', 381), ('Trinidad and Tobago', 30), ('Argentina', 390), ('China', 1880), ('Armenia', 3), ('Peru', 162), ('Democratic Republic of the Congo', 379), ('Libya', 39), ('India', 1559), (\"Cote d'Ivoire\", 109), ('Croatia', 32), ('Austria', 331), ('United Arab Emirates', 14), ('Russia', 384), ('Equatorial Guinea', 3), ('Israel', 103), ('Uruguay', 24), ('Zimbabwe', 80), ('Qatar', 16), ('Swaziland', 2), ('Syria', 29), ('Poland', 252), ('Canada', 384), ('Bulgaria', 75), ('Afghanistan', 55), ('Togo', 44), ('Central African Republic', 7), ('Burundi', 2), ('Sudan', 92), ('Slovenia', 3), ('South Sudan', 2), ('Haiti', 104), ('Tunisia', 13), ('Moldova', 39), ('Ireland', 106), ('Slovakia', 8), ('Mozambique', 94), ('Gabon', 14), ('Somalia', 52), ('Guinea', 18), ('Thailand', 295), ('Norway', 70), ('France', 2827), ('Benin', 35), ('Dominican Republic', 742), ('Belgium', 147), ('Japan', 250), ('Turkmenistan', 25), ('Morocco', 451), ('Tajikistan', 3), ('Georgia', 33), ('Spain', 859), ('Yemen', 30), ('Papua New Guinea', 22), ('Turkey', 1378), ('Eritrea', 2), ('Venezuela', 194), ('Bangladesh', 163), ('Ghana', 102), ('Denmark', 65), ('Pakistan', 249), ('Romania', 173), ('Singapore', 141), ('Colombia', 360), ('Lesotho', 6), ('Panama', 388), ('Cambodia', 45), ('Tanzania', 148), ('Mauritania', 10), ('Niger', 43), ('Iran', 607), ('Chile', 143), ('Nepal', 19), ('South Africa', 461), ('Djibouti', 12), ('Czech Republic', 71), ('Zambia', 102), ('Portugal', 70), ('Taiwan', 14), ('Kazakhstan', 101), ('Paraguay', 12)]\n"
     ]
    }
   ],
   "source": [
    "cursor = cnxn.cursor()\n",
    "count_of_transactions=cursor.execute('''SELECT Country,count(*) from new.[dbo].[Global Superstore!!] group by Country\n",
    "                    ''').fetchall()\n",
    "print(count_of_transactions)\n",
    "cnxn.commit()"
   ]
  },
  {
   "cell_type": "code",
   "execution_count": 65,
   "metadata": {},
   "outputs": [],
   "source": [
    "#country having maximum sales"
   ]
  },
  {
   "cell_type": "code",
   "execution_count": 64,
   "metadata": {
    "scrolled": true
   },
   "outputs": [
    {
     "name": "stdout",
     "output_type": "stream",
     "text": [
      "[('United States', 22638.48)]\n"
     ]
    }
   ],
   "source": [
    "cursor = cnxn.cursor()\n",
    "country_with_max_sales=cursor.execute('''SELECT Country,Sales from new.[dbo].[Global Superstore!!] WHERE Sales=(Select max(Sales) from new.[dbo].[Global Superstore!!]) \n",
    "                    ''').fetchall()\n",
    "print(country_with_max_sales)\n",
    "cnxn.commit()"
   ]
  },
  {
   "cell_type": "code",
   "execution_count": null,
   "metadata": {},
   "outputs": [],
   "source": []
  }
 ],
 "metadata": {
  "kernelspec": {
   "display_name": "Python 3",
   "language": "python",
   "name": "python3"
  },
  "language_info": {
   "codemirror_mode": {
    "name": "ipython",
    "version": 3
   },
   "file_extension": ".py",
   "mimetype": "text/x-python",
   "name": "python",
   "nbconvert_exporter": "python",
   "pygments_lexer": "ipython3",
   "version": "3.7.1"
  }
 },
 "nbformat": 4,
 "nbformat_minor": 2
}
