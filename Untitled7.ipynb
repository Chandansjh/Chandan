{
 "cells": [
  {
   "cell_type": "code",
   "execution_count": 1,
   "metadata": {},
   "outputs": [],
   "source": [
    "import pyodbc\n",
    "connection_string = \"Driver=SQL Server;Server=localhost\\MSSQLSERVER2017;Database={SQL_Learnings};Trusted_Connection=Yes;\""
   ]
  },
  {
   "cell_type": "code",
   "execution_count": 3,
   "metadata": {
    "scrolled": true
   },
   "outputs": [
    {
     "data": {
      "text/html": [
       "<div>\n",
       "<style scoped>\n",
       "    .dataframe tbody tr th:only-of-type {\n",
       "        vertical-align: middle;\n",
       "    }\n",
       "\n",
       "    .dataframe tbody tr th {\n",
       "        vertical-align: top;\n",
       "    }\n",
       "\n",
       "    .dataframe thead th {\n",
       "        text-align: right;\n",
       "    }\n",
       "</style>\n",
       "<table border=\"1\" class=\"dataframe\">\n",
       "  <thead>\n",
       "    <tr style=\"text-align: right;\">\n",
       "      <th></th>\n",
       "      <th>Row ID</th>\n",
       "      <th>Order ID</th>\n",
       "      <th>Order Date</th>\n",
       "      <th>Ship Date</th>\n",
       "      <th>Ship Mode</th>\n",
       "      <th>Customer ID</th>\n",
       "      <th>Customer Name</th>\n",
       "      <th>Segment</th>\n",
       "      <th>City</th>\n",
       "      <th>State</th>\n",
       "      <th>...</th>\n",
       "      <th>Product ID</th>\n",
       "      <th>Category</th>\n",
       "      <th>Sub-Category</th>\n",
       "      <th>Product Name</th>\n",
       "      <th>Sales</th>\n",
       "      <th>Quantity</th>\n",
       "      <th>Discount</th>\n",
       "      <th>Profit</th>\n",
       "      <th>Shipping Cost</th>\n",
       "      <th>Order Priority</th>\n",
       "    </tr>\n",
       "  </thead>\n",
       "  <tbody>\n",
       "    <tr>\n",
       "      <th>0</th>\n",
       "      <td>32298</td>\n",
       "      <td>CA-2012-124891</td>\n",
       "      <td>7/31/2012</td>\n",
       "      <td>7/31/2012</td>\n",
       "      <td>Same Day</td>\n",
       "      <td>RH-19495</td>\n",
       "      <td>Rick Hansen</td>\n",
       "      <td>Consumer</td>\n",
       "      <td>New York City</td>\n",
       "      <td>New York</td>\n",
       "      <td>...</td>\n",
       "      <td>TEC-AC-10003033</td>\n",
       "      <td>Technology</td>\n",
       "      <td>Accessories</td>\n",
       "      <td>Plantronics CS510 - Over-the-Head monaural Wir...</td>\n",
       "      <td>2309.650</td>\n",
       "      <td>7</td>\n",
       "      <td>0.0</td>\n",
       "      <td>762.1845</td>\n",
       "      <td>933.57</td>\n",
       "      <td>Critical</td>\n",
       "    </tr>\n",
       "    <tr>\n",
       "      <th>1</th>\n",
       "      <td>26341</td>\n",
       "      <td>IN-2013-77878</td>\n",
       "      <td>2/5/2013</td>\n",
       "      <td>2/7/2013</td>\n",
       "      <td>Second Class</td>\n",
       "      <td>JR-16210</td>\n",
       "      <td>Justin Ritter</td>\n",
       "      <td>Corporate</td>\n",
       "      <td>Wollongong</td>\n",
       "      <td>New South Wales</td>\n",
       "      <td>...</td>\n",
       "      <td>FUR-CH-10003950</td>\n",
       "      <td>Furniture</td>\n",
       "      <td>Chairs</td>\n",
       "      <td>Novimex Executive Leather Armchair, Black</td>\n",
       "      <td>3709.395</td>\n",
       "      <td>9</td>\n",
       "      <td>0.1</td>\n",
       "      <td>-288.7650</td>\n",
       "      <td>923.63</td>\n",
       "      <td>Critical</td>\n",
       "    </tr>\n",
       "    <tr>\n",
       "      <th>2</th>\n",
       "      <td>25330</td>\n",
       "      <td>IN-2013-71249</td>\n",
       "      <td>10/17/2013</td>\n",
       "      <td>10/18/2013</td>\n",
       "      <td>First Class</td>\n",
       "      <td>CR-12730</td>\n",
       "      <td>Craig Reiter</td>\n",
       "      <td>Consumer</td>\n",
       "      <td>Brisbane</td>\n",
       "      <td>Queensland</td>\n",
       "      <td>...</td>\n",
       "      <td>TEC-PH-10004664</td>\n",
       "      <td>Technology</td>\n",
       "      <td>Phones</td>\n",
       "      <td>Nokia Smart Phone, with Caller ID</td>\n",
       "      <td>5175.171</td>\n",
       "      <td>9</td>\n",
       "      <td>0.1</td>\n",
       "      <td>919.9710</td>\n",
       "      <td>915.49</td>\n",
       "      <td>Medium</td>\n",
       "    </tr>\n",
       "    <tr>\n",
       "      <th>3</th>\n",
       "      <td>13524</td>\n",
       "      <td>ES-2013-1579342</td>\n",
       "      <td>1/28/2013</td>\n",
       "      <td>1/30/2013</td>\n",
       "      <td>First Class</td>\n",
       "      <td>KM-16375</td>\n",
       "      <td>Katherine Murray</td>\n",
       "      <td>Home Office</td>\n",
       "      <td>Berlin</td>\n",
       "      <td>Berlin</td>\n",
       "      <td>...</td>\n",
       "      <td>TEC-PH-10004583</td>\n",
       "      <td>Technology</td>\n",
       "      <td>Phones</td>\n",
       "      <td>Motorola Smart Phone, Cordless</td>\n",
       "      <td>2892.510</td>\n",
       "      <td>5</td>\n",
       "      <td>0.1</td>\n",
       "      <td>-96.5400</td>\n",
       "      <td>910.16</td>\n",
       "      <td>Medium</td>\n",
       "    </tr>\n",
       "    <tr>\n",
       "      <th>4</th>\n",
       "      <td>47221</td>\n",
       "      <td>SG-2013-4320</td>\n",
       "      <td>11/5/2013</td>\n",
       "      <td>11/6/2013</td>\n",
       "      <td>Same Day</td>\n",
       "      <td>RH-9495</td>\n",
       "      <td>Rick Hansen</td>\n",
       "      <td>Consumer</td>\n",
       "      <td>Dakar</td>\n",
       "      <td>Dakar</td>\n",
       "      <td>...</td>\n",
       "      <td>TEC-SHA-10000501</td>\n",
       "      <td>Technology</td>\n",
       "      <td>Copiers</td>\n",
       "      <td>Sharp Wireless Fax, High-Speed</td>\n",
       "      <td>2832.960</td>\n",
       "      <td>8</td>\n",
       "      <td>0.0</td>\n",
       "      <td>311.5200</td>\n",
       "      <td>903.04</td>\n",
       "      <td>Critical</td>\n",
       "    </tr>\n",
       "  </tbody>\n",
       "</table>\n",
       "<p>5 rows × 24 columns</p>\n",
       "</div>"
      ],
      "text/plain": [
       "   Row ID         Order ID  Order Date   Ship Date     Ship Mode Customer ID  \\\n",
       "0   32298   CA-2012-124891   7/31/2012   7/31/2012      Same Day    RH-19495   \n",
       "1   26341    IN-2013-77878    2/5/2013    2/7/2013  Second Class    JR-16210   \n",
       "2   25330    IN-2013-71249  10/17/2013  10/18/2013   First Class    CR-12730   \n",
       "3   13524  ES-2013-1579342   1/28/2013   1/30/2013   First Class    KM-16375   \n",
       "4   47221     SG-2013-4320   11/5/2013   11/6/2013      Same Day     RH-9495   \n",
       "\n",
       "      Customer Name      Segment           City            State  \\\n",
       "0       Rick Hansen     Consumer  New York City         New York   \n",
       "1     Justin Ritter    Corporate     Wollongong  New South Wales   \n",
       "2      Craig Reiter     Consumer       Brisbane       Queensland   \n",
       "3  Katherine Murray  Home Office         Berlin           Berlin   \n",
       "4       Rick Hansen     Consumer          Dakar            Dakar   \n",
       "\n",
       "        ...              Product ID    Category Sub-Category  \\\n",
       "0       ...         TEC-AC-10003033  Technology  Accessories   \n",
       "1       ...         FUR-CH-10003950   Furniture       Chairs   \n",
       "2       ...         TEC-PH-10004664  Technology       Phones   \n",
       "3       ...         TEC-PH-10004583  Technology       Phones   \n",
       "4       ...        TEC-SHA-10000501  Technology      Copiers   \n",
       "\n",
       "                                        Product Name     Sales Quantity  \\\n",
       "0  Plantronics CS510 - Over-the-Head monaural Wir...  2309.650        7   \n",
       "1          Novimex Executive Leather Armchair, Black  3709.395        9   \n",
       "2                  Nokia Smart Phone, with Caller ID  5175.171        9   \n",
       "3                     Motorola Smart Phone, Cordless  2892.510        5   \n",
       "4                     Sharp Wireless Fax, High-Speed  2832.960        8   \n",
       "\n",
       "  Discount    Profit  Shipping Cost  Order Priority  \n",
       "0      0.0  762.1845         933.57        Critical  \n",
       "1      0.1 -288.7650         923.63        Critical  \n",
       "2      0.1  919.9710         915.49          Medium  \n",
       "3      0.1  -96.5400         910.16          Medium  \n",
       "4      0.0  311.5200         903.04        Critical  \n",
       "\n",
       "[5 rows x 24 columns]"
      ]
     },
     "execution_count": 3,
     "metadata": {},
     "output_type": "execute_result"
    }
   ],
   "source": [
    "import pandas as pd\n",
    "import os\n",
    "df = pd.read_csv(r\"C:\\Users\\chands1\\Documents\\chandan.csv\")\n",
    "df.head()"
   ]
  },
  {
   "cell_type": "code",
   "execution_count": 21,
   "metadata": {},
   "outputs": [],
   "source": [
    "from sqlalchemy import Table,MetaData,create_engine\n",
    "metadata=MetaData()\n",
    "engine=create_engine('sqlite:///chandan.db')\n",
    "#df.to_sql('orders',engine)\n",
    "orders=Table('orders',metadata,autoload=True,autoload_with=engine)"
   ]
  },
  {
   "cell_type": "code",
   "execution_count": 22,
   "metadata": {
    "scrolled": true
   },
   "outputs": [
    {
     "name": "stdout",
     "output_type": "stream",
     "text": [
      "['orders']\n"
     ]
    }
   ],
   "source": [
    "print(engine.table_names())"
   ]
  },
  {
   "cell_type": "code",
   "execution_count": 76,
   "metadata": {},
   "outputs": [
    {
     "name": "stdout",
     "output_type": "stream",
     "text": [
      "['orders']\n",
      "[(0, 32298, 'CA-2012-124891', '7/31/2012', '7/31/2012', 'Same Day', 'RH-19495', 'Rick Hansen', 'Consumer', 'New York City', 'New York', 'United States', 10024.0, 'US', 'East', 'TEC-AC-10003033', 'Technology', 'Accessories', 'Plantronics CS510 - Over-the-Head monaural Wireless Headset System', 2309.65, 7, 0.0, 762.1845, 933.57, 'Critical'), (1, 26341, 'IN-2013-77878', '2/5/2013', '2/7/2013', 'Second Class', 'JR-16210', 'Justin Ritter', 'Corporate', 'Wollongong', 'New South Wales', 'Australia', None, 'APAC', 'Oceania', 'FUR-CH-10003950', 'Furniture', 'Chairs', 'Novimex Executive Leather Armchair, Black', 3709.395, 9, 0.1, -288.765, 923.63, 'Critical'), (2, 25330, 'IN-2013-71249', '10/17/2013', '10/18/2013', 'First Class', 'CR-12730', 'Craig Reiter', 'Consumer', 'Brisbane', 'Queensland', 'Australia', None, 'APAC', 'Oceania', 'TEC-PH-10004664', 'Technology', 'Phones', 'Nokia Smart Phone, with Caller ID', 5175.170999999999, 9, 0.1, 919.971, 915.49, 'Medium'), (3, 13524, 'ES-2013-1579342', '1/28/2013', '1/30/2013', 'First Class', 'KM-16375', 'Katherine Murray', 'Home Office', 'Berlin', 'Berlin', 'Germany', None, 'EU', 'Central', 'TEC-PH-10004583', 'Technology', 'Phones', 'Motorola Smart Phone, Cordless', 2892.51, 5, 0.1, -96.54, 910.16, 'Medium'), (4, 47221, 'SG-2013-4320', '11/5/2013', '11/6/2013', 'Same Day', 'RH-9495', 'Rick Hansen', 'Consumer', 'Dakar', 'Dakar', 'Senegal', None, 'Africa', 'Africa', 'TEC-SHA-10000501', 'Technology', 'Copiers', 'Sharp Wireless Fax, High-Speed', 2832.96, 8, 0.0, 311.52, 903.04, 'Critical'), (5, 22732, 'IN-2013-42360', '6/28/2013', '7/1/2013', 'Second Class', 'JM-15655', 'Jim Mitchum', 'Corporate', 'Sydney', 'New South Wales', 'Australia', None, 'APAC', 'Oceania', 'TEC-PH-10000030', 'Technology', 'Phones', 'Samsung Smart Phone, with Caller ID', 2862.675, 5, 0.1, 763.275, 897.35, 'Critical'), (6, 30570, 'IN-2011-81826', '11/7/2011', '11/9/2011', 'First Class', 'TS-21340', 'Toby Swindell', 'Consumer', 'Porirua', 'Wellington', 'New Zealand', None, 'APAC', 'Oceania', 'FUR-CH-10004050', 'Furniture', 'Chairs', 'Novimex Executive Leather Armchair, Adjustable', 1822.08, 4, 0.0, 564.84, 894.77, 'Critical'), (7, 31192, 'IN-2012-86369', '4/14/2012', '4/18/2012', 'Standard Class', 'MB-18085', 'Mick Brown', 'Consumer', 'Hamilton', 'Waikato', 'New Zealand', None, 'APAC', 'Oceania', 'FUR-TA-10002958', 'Furniture', 'Tables', 'Chromcraft Conference Table, Fully Assembled', 5244.84, 6, 0.0, 996.48, 878.38, 'High'), (8, 40155, 'CA-2014-135909', '10/14/2014', '10/21/2014', 'Standard Class', 'JW-15220', 'Jane Waco', 'Corporate', 'Sacramento', 'California', 'United States', 95823.0, 'US', 'West', 'OFF-BI-10003527', 'Office Supplies', 'Binders', 'Fellowes PB500 Electric Punch Plastic Comb Binding Machine with Manual Bind', 5083.96, 5, 0.2, 1906.485, 867.69, 'Low'), (9, 40936, 'CA-2012-116638', '1/28/2012', '1/31/2012', 'Second Class', 'JH-15985', 'Joseph Holt', 'Consumer', 'Concord', 'North Carolina', 'United States', 28027.0, 'US', 'South', 'FUR-TA-10000198', 'Furniture', 'Tables', 'Chromcraft Bull-Nose Wood Oval Conference Tables & Bases', 4297.644, 13, 0.4, -1862.3124, 865.74, 'Critical')]\n"
     ]
    }
   ],
   "source": [
    "from sqlalchemy import select,Table\n",
    "connection=engine.connect()\n",
    "print(engine.table_names())\n",
    "stmt=select([orders])\n",
    "result=connection.execute(stmt).fetchmany(10)\n",
    "print(result)\n",
    "\n"
   ]
  },
  {
   "cell_type": "code",
   "execution_count": 56,
   "metadata": {},
   "outputs": [
    {
     "name": "stdout",
     "output_type": "stream",
     "text": [
      "   index  Row ID         Order ID  Order Date   Ship Date       Ship Mode  \\\n",
      "0      0   32298   CA-2012-124891   7/31/2012   7/31/2012        Same Day   \n",
      "1      1   26341    IN-2013-77878    2/5/2013    2/7/2013    Second Class   \n",
      "2      2   25330    IN-2013-71249  10/17/2013  10/18/2013     First Class   \n",
      "3      3   13524  ES-2013-1579342   1/28/2013   1/30/2013     First Class   \n",
      "4      4   47221     SG-2013-4320   11/5/2013   11/6/2013        Same Day   \n",
      "5      5   22732    IN-2013-42360   6/28/2013    7/1/2013    Second Class   \n",
      "6      6   30570    IN-2011-81826   11/7/2011   11/9/2011     First Class   \n",
      "7      7   31192    IN-2012-86369   4/14/2012   4/18/2012  Standard Class   \n",
      "8      8   40155   CA-2014-135909  10/14/2014  10/21/2014  Standard Class   \n",
      "9      9   40936   CA-2012-116638   1/28/2012   1/31/2012    Second Class   \n",
      "\n",
      "  Customer ID     Customer Name      Segment           City       ...        \\\n",
      "0    RH-19495       Rick Hansen     Consumer  New York City       ...         \n",
      "1    JR-16210     Justin Ritter    Corporate     Wollongong       ...         \n",
      "2    CR-12730      Craig Reiter     Consumer       Brisbane       ...         \n",
      "3    KM-16375  Katherine Murray  Home Office         Berlin       ...         \n",
      "4     RH-9495       Rick Hansen     Consumer          Dakar       ...         \n",
      "5    JM-15655       Jim Mitchum    Corporate         Sydney       ...         \n",
      "6    TS-21340     Toby Swindell     Consumer        Porirua       ...         \n",
      "7    MB-18085        Mick Brown     Consumer       Hamilton       ...         \n",
      "8    JW-15220         Jane Waco    Corporate     Sacramento       ...         \n",
      "9    JH-15985       Joseph Holt     Consumer        Concord       ...         \n",
      "\n",
      "         Product ID         Category  Sub-Category  \\\n",
      "0   TEC-AC-10003033       Technology   Accessories   \n",
      "1   FUR-CH-10003950        Furniture        Chairs   \n",
      "2   TEC-PH-10004664       Technology        Phones   \n",
      "3   TEC-PH-10004583       Technology        Phones   \n",
      "4  TEC-SHA-10000501       Technology       Copiers   \n",
      "5   TEC-PH-10000030       Technology        Phones   \n",
      "6   FUR-CH-10004050        Furniture        Chairs   \n",
      "7   FUR-TA-10002958        Furniture        Tables   \n",
      "8   OFF-BI-10003527  Office Supplies       Binders   \n",
      "9   FUR-TA-10000198        Furniture        Tables   \n",
      "\n",
      "                                        Product Name     Sales Quantity  \\\n",
      "0  Plantronics CS510 - Over-the-Head monaural Wir...  2309.650        7   \n",
      "1          Novimex Executive Leather Armchair, Black  3709.395        9   \n",
      "2                  Nokia Smart Phone, with Caller ID  5175.171        9   \n",
      "3                     Motorola Smart Phone, Cordless  2892.510        5   \n",
      "4                     Sharp Wireless Fax, High-Speed  2832.960        8   \n",
      "5                Samsung Smart Phone, with Caller ID  2862.675        5   \n",
      "6     Novimex Executive Leather Armchair, Adjustable  1822.080        4   \n",
      "7       Chromcraft Conference Table, Fully Assembled  5244.840        6   \n",
      "8  Fellowes PB500 Electric Punch Plastic Comb Bin...  5083.960        5   \n",
      "9  Chromcraft Bull-Nose Wood Oval Conference Tabl...  4297.644       13   \n",
      "\n",
      "  Discount     Profit Shipping Cost  Order Priority  \n",
      "0      0.0   762.1845        933.57        Critical  \n",
      "1      0.1  -288.7650        923.63        Critical  \n",
      "2      0.1   919.9710        915.49          Medium  \n",
      "3      0.1   -96.5400        910.16          Medium  \n",
      "4      0.0   311.5200        903.04        Critical  \n",
      "5      0.1   763.2750        897.35        Critical  \n",
      "6      0.0   564.8400        894.77        Critical  \n",
      "7      0.0   996.4800        878.38            High  \n",
      "8      0.2  1906.4850        867.69             Low  \n",
      "9      0.4 -1862.3124        865.74        Critical  \n",
      "\n",
      "[10 rows x 25 columns]\n"
     ]
    }
   ],
   "source": [
    "df=pd.DataFrame(result)\n",
    "df.columns=result[0].keys()\n",
    "print(df)"
   ]
  },
  {
   "cell_type": "code",
   "execution_count": 62,
   "metadata": {},
   "outputs": [],
   "source": [
    "df=df.append({'Row ID':60000,\n",
    "'Order ID':'CA-2012-124891',\n",
    "'Order Date':'7/31/2012',\n",
    "'Ship Date':'8/31/2012',\n",
    "'Ship Mode':'Second Class',\n",
    "'Customer ID':'RH-19495',\n",
    "'Customer Name':'chandan',\n",
    "'Segment':'Consumer',  \n",
    "'City':'New York City',\n",
    "'State':'karnatak',\n",
    "'Product ID':'TEC-AC-10003033',          \n",
    "'Category':'Technology',\n",
    "'Sub-Category':'Accessories',\n",
    "'Product Name':'Nokia Smart Phone with Caller ID',\n",
    "'Sales':5478,\n",
    "'Quantity':2,\n",
    "'Discount':0.0,\n",
    "'Profit':458,\n",
    "'Shipping Cost':234,\n",
    "'Order Priority':'Critical'},ignore_index=True)"
   ]
  },
  {
   "cell_type": "code",
   "execution_count": 63,
   "metadata": {},
   "outputs": [
    {
     "name": "stdout",
     "output_type": "stream",
     "text": [
      "    index  Row ID        Order ID Order Date  Ship Date     Ship Mode  \\\n",
      "0     0.0   32298  CA-2012-124891  7/31/2012  7/31/2012      Same Day   \n",
      "10    NaN   60000  CA-2012-124891  7/31/2012  8/31/2012  Second Class   \n",
      "\n",
      "   Customer ID Customer Name   Segment           City       ...        \\\n",
      "0     RH-19495   Rick Hansen  Consumer  New York City       ...         \n",
      "10    RH-19495       chandan  Consumer  New York City       ...         \n",
      "\n",
      "         Product ID    Category  Sub-Category  \\\n",
      "0   TEC-AC-10003033  Technology   Accessories   \n",
      "10  TEC-AC-10003033  Technology   Accessories   \n",
      "\n",
      "                                         Product Name    Sales Quantity  \\\n",
      "0   Plantronics CS510 - Over-the-Head monaural Wir...  2309.65        7   \n",
      "10                   Nokia Smart Phone with Caller ID  5478.00        2   \n",
      "\n",
      "   Discount    Profit Shipping Cost  Order Priority  \n",
      "0       0.0  762.1845        933.57        Critical  \n",
      "10      0.0  458.0000        234.00        Critical  \n",
      "\n",
      "[2 rows x 25 columns]\n"
     ]
    }
   ],
   "source": [
    "df = df.iloc[[0, -1]]\n",
    "print(df)"
   ]
  },
  {
   "cell_type": "code",
   "execution_count": 95,
   "metadata": {},
   "outputs": [
    {
     "name": "stdout",
     "output_type": "stream",
     "text": [
      "[60001, 'CA-2012-124891', '7/31/2012', '7/31/2012', 'Same Day', 'RH-19495', 'Rick Hansen', 'Consumer', 'New York City', 'tel', 'TEC-AC-10003033', 'Technology', 'Accessories Novimex Executive Leather Armchair', 'Black', 3709.395, 9, 0.0, 762.1845, 933.5, 'Critical']\n"
     ]
    }
   ],
   "source": [
    "l1=[60001, 'CA-2012-124891', '7/31/2012', '7/31/2012', 'Same Day', 'RH-19495', 'Rick Hansen', 'Consumer', 'New York City', 'tel', 'TEC-AC-10003033', 'Technology', 'Accessories Novimex Executive Leather Armchair', 'Black', 3709.395, 9, 0.0, 762.1845, 933.5, 'Critical']\n",
    "print(l1)"
   ]
  },
  {
   "cell_type": "code",
   "execution_count": 94,
   "metadata": {},
   "outputs": [
    {
     "name": "stdout",
     "output_type": "stream",
     "text": [
      "[(0, 32298, 'CA-2012-124891', '7/31/2012', '7/31/2012', 'Same Day', 'RH-19495', 'Rick Hansen', 'Consumer', 'New York City', 'New York', 'United States', 10024.0, 'US', 'East', 'TEC-AC-10003033', 'Technology', 'Accessories', 'Plantronics CS510 - Over-the-Head monaural Wireless Headset System', 2309.65, 7, 0.0, 762.1845, 933.57, 'Critical'), (1, 26341, 'IN-2013-77878', '2/5/2013', '2/7/2013', 'Second Class', 'JR-16210', 'Justin Ritter', 'Corporate', 'Wollongong', 'New South Wales', 'Australia', None, 'APAC', 'Oceania', 'FUR-CH-10003950', 'Furniture', 'Chairs', 'Novimex Executive Leather Armchair, Black', 3709.395, 9, 0.1, -288.765, 923.63, 'Critical'), (2, 25330, 'IN-2013-71249', '10/17/2013', '10/18/2013', 'First Class', 'CR-12730', 'Craig Reiter', 'Consumer', 'Brisbane', 'Queensland', 'Australia', None, 'APAC', 'Oceania', 'TEC-PH-10004664', 'Technology', 'Phones', 'Nokia Smart Phone, with Caller ID', 5175.170999999999, 9, 0.1, 919.971, 915.49, 'Medium'), (3, 13524, 'ES-2013-1579342', '1/28/2013', '1/30/2013', 'First Class', 'KM-16375', 'Katherine Murray', 'Home Office', 'Berlin', 'Berlin', 'Germany', None, 'EU', 'Central', 'TEC-PH-10004583', 'Technology', 'Phones', 'Motorola Smart Phone, Cordless', 2892.51, 5, 0.1, -96.54, 910.16, 'Medium'), (4, 47221, 'SG-2013-4320', '11/5/2013', '11/6/2013', 'Same Day', 'RH-9495', 'Rick Hansen', 'Consumer', 'Dakar', 'Dakar', 'Senegal', None, 'Africa', 'Africa', 'TEC-SHA-10000501', 'Technology', 'Copiers', 'Sharp Wireless Fax, High-Speed', 2832.96, 8, 0.0, 311.52, 903.04, 'Critical'), (5, 22732, 'IN-2013-42360', '6/28/2013', '7/1/2013', 'Second Class', 'JM-15655', 'Jim Mitchum', 'Corporate', 'Sydney', 'New South Wales', 'Australia', None, 'APAC', 'Oceania', 'TEC-PH-10000030', 'Technology', 'Phones', 'Samsung Smart Phone, with Caller ID', 2862.675, 5, 0.1, 763.275, 897.35, 'Critical'), (6, 30570, 'IN-2011-81826', '11/7/2011', '11/9/2011', 'First Class', 'TS-21340', 'Toby Swindell', 'Consumer', 'Porirua', 'Wellington', 'New Zealand', None, 'APAC', 'Oceania', 'FUR-CH-10004050', 'Furniture', 'Chairs', 'Novimex Executive Leather Armchair, Adjustable', 1822.08, 4, 0.0, 564.84, 894.77, 'Critical'), (7, 31192, 'IN-2012-86369', '4/14/2012', '4/18/2012', 'Standard Class', 'MB-18085', 'Mick Brown', 'Consumer', 'Hamilton', 'Waikato', 'New Zealand', None, 'APAC', 'Oceania', 'FUR-TA-10002958', 'Furniture', 'Tables', 'Chromcraft Conference Table, Fully Assembled', 5244.84, 6, 0.0, 996.48, 878.38, 'High'), (8, 40155, 'CA-2014-135909', '10/14/2014', '10/21/2014', 'Standard Class', 'JW-15220', 'Jane Waco', 'Corporate', 'Sacramento', 'California', 'United States', 95823.0, 'US', 'West', 'OFF-BI-10003527', 'Office Supplies', 'Binders', 'Fellowes PB500 Electric Punch Plastic Comb Binding Machine with Manual Bind', 5083.96, 5, 0.2, 1906.485, 867.69, 'Low'), (9, 40936, 'CA-2012-116638', '1/28/2012', '1/31/2012', 'Second Class', 'JH-15985', 'Joseph Holt', 'Consumer', 'Concord', 'North Carolina', 'United States', 28027.0, 'US', 'South', 'FUR-TA-10000198', 'Furniture', 'Tables', 'Chromcraft Bull-Nose Wood Oval Conference Tables & Bases', 4297.644, 13, 0.4, -1862.3124, 865.74, 'Critical')]\n"
     ]
    }
   ],
   "source": [
    "from sqlalchemy import Table\n",
    "res=Table('orders',metadata,autoload=True,autoload_with=engine)\n",
    "stmt=select([res])\n",
    "res1=connection.execute(stmt).fetchmany(10)\n",
    "print(res1)"
   ]
  },
  {
   "cell_type": "code",
   "execution_count": null,
   "metadata": {},
   "outputs": [],
   "source": [
    "from sqlalchemy import insert\n",
    "stmt=insert(orders)\n",
    "values_list=[{'Row ID':60001,\n",
    "'Order ID':'CA-2012-124891',\n",
    "'Order Date':'7/31/2012',\n",
    "'Ship Date':'8/31/2012',\n",
    "'Ship Mode':'Second Class',\n",
    "'Customer ID':'RH-19495',\n",
    "'Customer Name':'chandansj',\n",
    "'Segment':'Consumer',  \n",
    "'City':'New York City',\n",
    "'State':'karnatak',\n",
    "'Product ID':'TEC-AC-10003033',          \n",
    "'Category':'Technology',\n",
    "'Sub-Category':'Accessories',\n",
    "'Product Name':'Nokia Smart Phone with Caller ID',\n",
    "'Sales':5478,\n",
    "'Quantity':2,\n",
    "'Discount':0.0,\n",
    "'Profit':458,\n",
    "'Shipping Cost':234,\n",
    "'Order Priority':'Critical'},\n",
    "{'Row ID':60003,\n",
    "'Order ID':'CA-2012-124891',\n",
    "'Order Date':'7/31/2012',\n",
    "'Ship Date':'8/31/2012',\n",
    "'Ship Mode':'Second Class',\n",
    "'Customer ID':'RH-19495',\n",
    "'Customer Name':'charan',\n",
    "'Segment':'Consumer',  \n",
    "'City':'New York City',\n",
    "'State':'karnat',\n",
    "'Product ID':'TEC-AC-10003033',          \n",
    "'Category':'Technology',\n",
    "'Sub-Category':'Accessories',\n",
    "'Product Name':'Nokia Smart Phone with Caller ID',\n",
    "'Sales':5499,\n",
    "'Quantity':3,\n",
    "'Discount':0.0,\n",
    "'Profit':450,\n",
    "'Shipping Cost':228,\n",
    "'Order Priority':'Critical'},\n",
    "{'Row ID':60004,\n",
    "'Order ID':'CA-2012-124891',\n",
    "'Order Date':'9/20/2012',\n",
    "'Ship Date':'8/30/2012',\n",
    "'Ship Mode':'Class',\n",
    "'Customer ID':'RH-19495',\n",
    "'Customer Name':'sneha',\n",
    "'Segment':'Consumer',  \n",
    "'City':'Chicago',\n",
    "'State':'Chicago',\n",
    "'Product ID':'TEC-AC-10003033',          \n",
    "'Category':'Technology',\n",
    "'Sub-Category':'Accessories',\n",
    "'Product Name':'Nokia Smart Phone with Caller ID',\n",
    "'Sales':5499,\n",
    "'Quantity':3,\n",
    "'Discount':0.0,\n",
    "'Profit':450,\n",
    "'Shipping Cost':228,\n",
    "'Order Priority':'Critical'},\n",
    "{'Row ID':60005,\n",
    "'Order ID':'CA-2016-1246789',\n",
    "'Order Date':'7/20/2012',\n",
    "'Ship Date':'8/15/2012',\n",
    "'Ship Mode':'Second Class',\n",
    "'Customer ID':'RH-19495',\n",
    "'Customer Name':'maruthi',\n",
    "'Segment':'Consumer',  \n",
    "'City':'New York City',\n",
    "'State':'karnat',\n",
    "'Product ID':'TEC-AC-10003033',          \n",
    "'Category':'Technology',\n",
    "'Sub-Category':'Accessories',\n",
    "'Product Name':'Nokia Smart Phone' ,\n",
    "'Sales':9000,\n",
    "'Quantity':7,\n",
    "'Discount':20,\n",
    "'Profit':678,\n",
    "'Shipping Cost':678,\n",
    "'Order Priority':'Critical'},\n",
    "{'Row ID':60006,\n",
    "'Order ID':'CA-2012-124891',\n",
    "'Order Date':'7/31/2012',\n",
    "'Ship Date':'8/31/2012',\n",
    "'Ship Mode':'Second Class',\n",
    "'Customer ID':'RH-19495',\n",
    "'Customer Name':'ankith',\n",
    "'Segment':'Consumer',  \n",
    "'City':'New York City',\n",
    "'State':'karnat',\n",
    "'Product ID':'TEC-AC-10003033',          \n",
    "'Category':'Technology',\n",
    "'Sub-Category':'Accessories',\n",
    "'Product Name':'Nokia Smart Phone with Caller ID',\n",
    "'Sales':5499,\n",
    "'Quantity':3,\n",
    "'Discount':0.0,\n",
    "'Profit':450,\n",
    "'Shipping Cost':228,\n",
    "'Order Priority':'Critical'}]\n",
    "res_proxy1=connection.execute(stmt,values_list)\n",
    "print(res_proxy1.count)\n",
    "\n"
   ]
  },
  {
   "cell_type": "code",
   "execution_count": 131,
   "metadata": {},
   "outputs": [
    {
     "name": "stdout",
     "output_type": "stream",
     "text": [
      "(None, 60006, 'CA-2012-124891', '7/31/2012', '8/31/2012', 'Second Class', 'RH-19495', 'ankith', 'Consumer', 'New York City', 'karnat', None, None, None, None, 'TEC-AC-10003033', 'Technology', 'Accessories', 'Nokia Smart Phone with Caller ID', 5499.0, 3, 0.0, 450.0, 228.0, 'Critical')\n",
      "(None, 60005, 'CA-2016-1246789', '7/20/2012', '8/15/2012', 'Second Class', 'RH-19495', 'maruthi', 'Consumer', 'New York City', 'karnat', None, None, None, None, 'TEC-AC-10003033', 'Technology', 'Accessories', 'Nokia Smart Phone', 9000.0, 7, 20.0, 678.0, 678.0, 'Critical')\n",
      "(None, 60004, 'CA-2012-124891', '9/20/2012', '8/30/2012', 'Class', 'RH-19495', 'sneha', 'Consumer', 'Chicago', 'Chicago', None, None, None, None, 'TEC-AC-10003033', 'Technology', 'Accessories', 'Nokia Smart Phone with Caller ID', 5499.0, 3, 0.0, 450.0, 228.0, 'Critical')\n",
      "(None, 60003, 'CA-2012-124891', '7/31/2012', '8/31/2012', 'Second Class', 'RH-19495', 'charan', 'Consumer', 'New York City', 'karnat', None, None, None, None, 'TEC-AC-10003033', 'Technology', 'Accessories', 'Nokia Smart Phone with Caller ID', 5499.0, 3, 0.0, 450.0, 228.0, 'Critical')\n"
     ]
    }
   ],
   "source": [
    "stmt='select * from orders'\n",
    "for i in range(-1,-5,-1):\n",
    "    orders=connection.execute(stmt).fetchall()[i]\n",
    "    print(orders)\n"
   ]
  },
  {
   "cell_type": "code",
   "execution_count": 147,
   "metadata": {},
   "outputs": [],
   "source": [
    "from sqlalchemy import update\n",
    "stmt=connection.execute(\"update orders set city='chikkamagalur' where Segment='Consumer'\")\n"
   ]
  },
  {
   "cell_type": "code",
   "execution_count": 148,
   "metadata": {},
   "outputs": [
    {
     "name": "stdout",
     "output_type": "stream",
     "text": [
      "(None, 60006, 'CA-2012-124891', '7/31/2012', '8/31/2012', 'Second Class', 'RH-19495', 'ankith', 'Consumer', 'chikkamagalur', 'karnat', None, None, None, None, 'TEC-AC-10003033', 'Technology', 'Accessories', 'Nokia Smart Phone with Caller ID', 5499.0, 3, 0.0, 450.0, 228.0, 'Critical')\n",
      "(None, 60005, 'CA-2016-1246789', '7/20/2012', '8/15/2012', 'Second Class', 'RH-19495', 'maruthi', 'Consumer', 'chikkamagalur', 'karnat', None, None, None, None, 'TEC-AC-10003033', 'Technology', 'Accessories', 'Nokia Smart Phone', 9000.0, 7, 20.0, 678.0, 678.0, 'Critical')\n",
      "(None, 60004, 'CA-2012-124891', '9/20/2012', '8/30/2012', 'Class', 'RH-19495', 'sneha', 'Consumer', 'chikkamagalur', 'Chicago', None, None, None, None, 'TEC-AC-10003033', 'Technology', 'Accessories', 'Nokia Smart Phone with Caller ID', 5499.0, 3, 0.0, 450.0, 228.0, 'Critical')\n",
      "(None, 60003, 'CA-2012-124891', '7/31/2012', '8/31/2012', 'Second Class', 'RH-19495', 'charan', 'Consumer', 'chikkamagalur', 'karnat', None, None, None, None, 'TEC-AC-10003033', 'Technology', 'Accessories', 'Nokia Smart Phone with Caller ID', 5499.0, 3, 0.0, 450.0, 228.0, 'Critical')\n"
     ]
    }
   ],
   "source": [
    "stmt='select * from orders'\n",
    "for i in range(-1,-5,-1):\n",
    "    orders=connection.execute(stmt).fetchall()[i]\n",
    "    print(orders)"
   ]
  },
  {
   "cell_type": "code",
   "execution_count": 162,
   "metadata": {},
   "outputs": [],
   "source": [
    "from sqlalchemy import update\n",
    "stmt=connection.execute(\"delete from orders where Segment='Consumer'\")\n",
    "\n"
   ]
  },
  {
   "cell_type": "code",
   "execution_count": 163,
   "metadata": {},
   "outputs": [
    {
     "name": "stdout",
     "output_type": "stream",
     "text": [
      "(51288, 9596, 'MX-2012-140767', '2/18/2012', '2/22/2012', 'Standard Class', 'RB-19795', 'Ross Baird', 'Home Office', 'Valinhos', 'São Paulo', 'Brazil', None, 'LATAM', 'South', 'OFF-BI-10000806', 'Office Supplies', 'Binders', 'Acco Index Tab, Economy', 13.44, 2, 0.0, 2.4, 0.0, 'Medium')\n",
      "(51287, 40470, 'US-2013-155768', '12/2/2013', '12/2/2013', 'Same Day', 'LB-16795', 'Laurel Beltran', 'Home Office', 'Oxnard', 'California', 'United States', 93030.0, 'US', 'West', 'OFF-EN-10001219', 'Office Supplies', 'Envelopes', '#10- 4 1/8\" x 9 1/2\" Security-Tint Envelopes', 22.92, 3, 0.0, 11.2308, 0.01, 'High')\n",
      "(51285, 29002, 'IN-2014-62366', '6/19/2014', '6/19/2014', 'Same Day', 'KE-16420', 'Katrina Edelman', 'Corporate', 'Kure', 'Hiroshima', 'Japan', None, 'APAC', 'North Asia', 'OFF-FA-10000746', 'Office Supplies', 'Fasteners', 'Advantus Thumb Tacks, 12 Pack', 65.1, 5, 0.0, 4.5, 0.01, 'Medium')\n",
      "(51284, 24175, 'IN-2014-57662', '8/5/2014', '8/10/2014', 'Standard Class', 'DB-13270', 'Deborah Brumfield', 'Home Office', 'Townsville', 'Queensland', 'Australia', None, 'APAC', 'Oceania', 'OFF-BI-10002424', 'Office Supplies', 'Binders', 'Avery Binder, Economy', 58.05, 5, 0.1, 19.95, 0.01, 'Medium')\n"
     ]
    }
   ],
   "source": [
    "stmt='select * from orders'\n",
    "for i in range(-1,-5,-1):\n",
    "    orders=connection.execute(stmt).fetchall()[i]\n",
    "    print(orders)"
   ]
  },
  {
   "cell_type": "code",
   "execution_count": 175,
   "metadata": {},
   "outputs": [
    {
     "ename": "AttributeError",
     "evalue": "Could not locate column in row for column 'columns'",
     "output_type": "error",
     "traceback": [
      "\u001b[1;31m---------------------------------------------------------------------------\u001b[0m",
      "\u001b[1;31mAttributeError\u001b[0m                            Traceback (most recent call last)",
      "\u001b[1;32m<ipython-input-175-3ccc48ffc903>\u001b[0m in \u001b[0;36m<module>\u001b[1;34m\u001b[0m\n\u001b[0;32m      1\u001b[0m \u001b[1;32mfrom\u001b[0m \u001b[0msqlalchemy\u001b[0m \u001b[1;32mimport\u001b[0m \u001b[0mfunc\u001b[0m\u001b[1;33m\u001b[0m\u001b[1;33m\u001b[0m\u001b[0m\n\u001b[1;32m----> 2\u001b[1;33m \u001b[0mstmt\u001b[0m\u001b[1;33m=\u001b[0m\u001b[0mselect\u001b[0m\u001b[1;33m(\u001b[0m\u001b[1;33m[\u001b[0m\u001b[0mfunc\u001b[0m\u001b[1;33m.\u001b[0m\u001b[0msum\u001b[0m\u001b[1;33m(\u001b[0m\u001b[0morders\u001b[0m\u001b[1;33m.\u001b[0m\u001b[0mcolumns\u001b[0m\u001b[1;33m.\u001b[0m\u001b[0mSales\u001b[0m\u001b[1;33m)\u001b[0m\u001b[1;33m]\u001b[0m\u001b[1;33m)\u001b[0m\u001b[1;33m\u001b[0m\u001b[1;33m\u001b[0m\u001b[0m\n\u001b[0m\u001b[0;32m      3\u001b[0m \u001b[0mprint\u001b[0m\u001b[1;33m(\u001b[0m\u001b[0mconnection\u001b[0m\u001b[1;33m.\u001b[0m\u001b[0mexecute\u001b[0m\u001b[1;33m(\u001b[0m\u001b[0mstmt\u001b[0m\u001b[1;33m)\u001b[0m\u001b[1;33m.\u001b[0m\u001b[0mscalar\u001b[0m\u001b[1;33m(\u001b[0m\u001b[1;33m)\u001b[0m\u001b[1;33m)\u001b[0m\u001b[1;33m\u001b[0m\u001b[1;33m\u001b[0m\u001b[0m\n",
      "\u001b[1;31mAttributeError\u001b[0m: Could not locate column in row for column 'columns'"
     ]
    }
   ],
   "source": [
    "from sqlalchemy import func\n",
    "stmt=select([func.sum(orders.columns.Sales)])\n",
    "print(connection.execute(stmt).scalar())"
   ]
  },
  {
   "cell_type": "code",
   "execution_count": 176,
   "metadata": {},
   "outputs": [
    {
     "name": "stdout",
     "output_type": "stream",
     "text": [
      "6111146.754020105\n"
     ]
    }
   ],
   "source": [
    "from sqlalchemy import func\n",
    "stmt='SELECT SUM(Sales) from orders'\n",
    "print(connection.execute(stmt).scalar())"
   ]
  },
  {
   "cell_type": "code",
   "execution_count": 177,
   "metadata": {},
   "outputs": [
    {
     "name": "stdout",
     "output_type": "stream",
     "text": [
      "22638.48\n"
     ]
    }
   ],
   "source": [
    "from sqlalchemy import func\n",
    "stmt='SELECT MAX(Sales) from orders'\n",
    "print(connection.execute(stmt).scalar())"
   ]
  },
  {
   "cell_type": "code",
   "execution_count": 178,
   "metadata": {},
   "outputs": [
    {
     "name": "stdout",
     "output_type": "stream",
     "text": [
      "0.556\n"
     ]
    }
   ],
   "source": [
    "from sqlalchemy import func\n",
    "stmt='SELECT MIN(Sales) from orders'\n",
    "print(connection.execute(stmt).scalar())"
   ]
  },
  {
   "cell_type": "code",
   "execution_count": 179,
   "metadata": {},
   "outputs": [
    {
     "name": "stdout",
     "output_type": "stream",
     "text": [
      "24632\n"
     ]
    }
   ],
   "source": [
    "from sqlalchemy import func\n",
    "stmt='SELECT COUNT(*) from orders'\n",
    "print(connection.execute(stmt).scalar())"
   ]
  },
  {
   "cell_type": "code",
   "execution_count": null,
   "metadata": {},
   "outputs": [],
   "source": []
  },
  {
   "cell_type": "code",
   "execution_count": null,
   "metadata": {},
   "outputs": [],
   "source": []
  }
 ],
 "metadata": {
  "kernelspec": {
   "display_name": "Python 3",
   "language": "python",
   "name": "python3"
  },
  "language_info": {
   "codemirror_mode": {
    "name": "ipython",
    "version": 3
   },
   "file_extension": ".py",
   "mimetype": "text/x-python",
   "name": "python",
   "nbconvert_exporter": "python",
   "pygments_lexer": "ipython3",
   "version": "3.7.1"
  }
 },
 "nbformat": 4,
 "nbformat_minor": 2
}
